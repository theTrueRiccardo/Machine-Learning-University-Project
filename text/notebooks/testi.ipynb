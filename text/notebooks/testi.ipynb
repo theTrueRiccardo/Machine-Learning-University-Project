{
 "cells": [
  {
   "cell_type": "code",
   "execution_count": 1,
   "metadata": {
    "executionInfo": {
     "elapsed": 2067,
     "status": "ok",
     "timestamp": 1657720977669,
     "user": {
      "displayName": "Riccardo Bova",
      "userId": "16906742759511411874"
     },
     "user_tz": -120
    },
    "id": "nKlJZtltF3q8"
   },
   "outputs": [],
   "source": [
    "import numpy as np\n",
    "import sklearn as sk\n",
    "from google.colab import drive\n",
    "import nltk\n",
    "import matplotlib.pyplot as plt\n",
    "import pandas as pd\n",
    "from sklearn.pipeline import Pipeline\n",
    "from sklearn.pipeline import make_pipeline\n",
    "from sklearn.feature_extraction.text import CountVectorizer\n",
    "from sklearn.feature_extraction.text import TfidfTransformer\n",
    "from sklearn.ensemble import AdaBoostClassifier\n",
    "from nltk.corpus import stopwords\n",
    "from nltk.stem import WordNetLemmatizer\n",
    "from nltk.tokenize import word_tokenize\n",
    "from sklearn.model_selection import cross_val_score\n",
    "from joblib import dump, load\n",
    "import os\n",
    "from sklearn.base import TransformerMixin\n",
    "from sklearn.base import BaseEstimator\n",
    "import copy\n",
    "from mlxtend.frequent_patterns import apriori, association_rules\n",
    "from mlxtend.preprocessing import TransactionEncoder\n",
    "from sklearn.multiclass import OneVsRestClassifier\n",
    "from sklearn.svm import SVC\n",
    "from sklearn.neighbors import KNeighborsClassifier\n",
    "from sklearn.base import BaseEstimator, ClassifierMixin\n",
    "from sklearn.metrics import euclidean_distances\n",
    "from sklearn.utils.validation import check_X_y, check_array, check_is_fitted\n",
    "from sklearn.utils.multiclass import unique_labels"
   ]
  },
  {
   "cell_type": "code",
   "execution_count": 2,
   "metadata": {
    "colab": {
     "base_uri": "https://localhost:8080/",
     "height": 36
    },
    "executionInfo": {
     "elapsed": 6,
     "status": "ok",
     "timestamp": 1657721000002,
     "user": {
      "displayName": "Riccardo Bova",
      "userId": "16906742759511411874"
     },
     "user_tz": -120
    },
    "id": "wtOdTdxLsVlu",
    "outputId": "54ab9cae-3d53-44b8-bc2c-dcfcf9752fc9"
   },
   "outputs": [
    {
     "data": {
      "application/vnd.google.colaboratory.intrinsic+json": {
       "type": "string"
      },
      "text/plain": [
       "'\\n!pip install dill\\nfrom joblib.externals.loky import set_loky_pickler\\nset_loky_pickler(\"dill\")\\n'"
      ]
     },
     "execution_count": 2,
     "metadata": {},
     "output_type": "execute_result"
    }
   ],
   "source": [
    "'''\n",
    "!pip install dill\n",
    "from joblib.externals.loky import set_loky_pickler\n",
    "set_loky_pickler(\"dill\")\n",
    "'''"
   ]
  },
  {
   "cell_type": "code",
   "execution_count": 3,
   "metadata": {
    "colab": {
     "base_uri": "https://localhost:8080/"
    },
    "executionInfo": {
     "elapsed": 15498,
     "status": "ok",
     "timestamp": 1657721016358,
     "user": {
      "displayName": "Riccardo Bova",
      "userId": "16906742759511411874"
     },
     "user_tz": -120
    },
    "id": "cZ2XJ6FoGAkF",
    "outputId": "631075d9-3314-4ccc-dcf0-60f937a9f806"
   },
   "outputs": [
    {
     "name": "stdout",
     "output_type": "stream",
     "text": [
      "Mounted at /content/drive\n"
     ]
    }
   ],
   "source": [
    "drive.mount(\"/content/drive\")"
   ]
  },
  {
   "cell_type": "markdown",
   "metadata": {
    "id": "ocLUeCLYnbmx"
   },
   "source": [
    "Per il locale"
   ]
  },
  {
   "cell_type": "code",
   "execution_count": null,
   "metadata": {
    "id": "FINZs0nD1Hzp"
   },
   "outputs": [],
   "source": [
    "dati = \"C:\\\\Users\\\\Riccardo\\\\Desktop\\\\Universita\\\\magistrale\\\\secondo anno\\\\Machine deep learning\\\\progettoML\\\\copia_drive\\\\dati\\\\testi-3.xlsx\"\n",
    "modelli = \"C:\\\\Users\\\\Riccardo\\\\Desktop\\\\Universita\\\\magistrale\\\\secondo anno\\\\Machine deep learning\\\\progettoML\\\\copia_drive\\\\testi\\\\modelli\""
   ]
  },
  {
   "cell_type": "markdown",
   "metadata": {
    "id": "wYfKvjw-ndq9"
   },
   "source": [
    "Per colab"
   ]
  },
  {
   "cell_type": "code",
   "execution_count": 4,
   "metadata": {
    "executionInfo": {
     "elapsed": 6,
     "status": "ok",
     "timestamp": 1657721016359,
     "user": {
      "displayName": "Riccardo Bova",
      "userId": "16906742759511411874"
     },
     "user_tz": -120
    },
    "id": "tMtDavLonYwD"
   },
   "outputs": [],
   "source": [
    "dati = \"/content/drive/MyDrive/ML/dati/testi-3.xlsx\"\n",
    "modelli = \"/content/drive/MyDrive/ML/testi/modelli\""
   ]
  },
  {
   "cell_type": "code",
   "execution_count": 5,
   "metadata": {
    "colab": {
     "base_uri": "https://localhost:8080/"
    },
    "executionInfo": {
     "elapsed": 791,
     "status": "ok",
     "timestamp": 1657721017145,
     "user": {
      "displayName": "Riccardo Bova",
      "userId": "16906742759511411874"
     },
     "user_tz": -120
    },
    "id": "8xaXeeMY7Qba",
    "outputId": "cd26a00e-3d07-4a7e-bd68-bcc8c4ea3acc"
   },
   "outputs": [
    {
     "name": "stderr",
     "output_type": "stream",
     "text": [
      "[nltk_data] Downloading package punkt to /root/nltk_data...\n",
      "[nltk_data]   Unzipping tokenizers/punkt.zip.\n",
      "[nltk_data] Downloading package wordnet to /root/nltk_data...\n",
      "[nltk_data] Downloading package omw-1.4 to /root/nltk_data...\n"
     ]
    },
    {
     "data": {
      "text/plain": [
       "True"
      ]
     },
     "execution_count": 5,
     "metadata": {},
     "output_type": "execute_result"
    }
   ],
   "source": [
    "nltk.download('punkt')\n",
    "nltk.download('wordnet')\n",
    "nltk.download('omw-1.4')"
   ]
  },
  {
   "cell_type": "code",
   "execution_count": 6,
   "metadata": {
    "executionInfo": {
     "elapsed": 258,
     "status": "ok",
     "timestamp": 1657721020036,
     "user": {
      "displayName": "Riccardo Bova",
      "userId": "16906742759511411874"
     },
     "user_tz": -120
    },
    "id": "aOkZcudD7Wqg"
   },
   "outputs": [],
   "source": [
    "wn = nltk.corpus.wordnet"
   ]
  },
  {
   "cell_type": "markdown",
   "metadata": {
    "id": "gqht63d-1fn2"
   },
   "source": [
    "<h1>Caricamento dati ed esplorazione</h1>"
   ]
  },
  {
   "cell_type": "markdown",
   "metadata": {
    "id": "2ZPU42H4o-4B"
   },
   "source": [
    "locale"
   ]
  },
  {
   "cell_type": "code",
   "execution_count": null,
   "metadata": {
    "id": "I7oDtybaGaAA"
   },
   "outputs": [],
   "source": [
    "df = pd.read_excel(dati)\n",
    "df = df.drop(columns = [\"Unnamed: 2\", \"Unnamed: 3\", \"Unnamed: 4\"])\n",
    "df = df.rename(columns={\"cleaned_website_text\":\"text\", \"Category\":\"label\"})\n",
    "df"
   ]
  },
  {
   "cell_type": "markdown",
   "metadata": {
    "id": "SjnHaL0lpBWB"
   },
   "source": [
    "colab"
   ]
  },
  {
   "cell_type": "code",
   "execution_count": 7,
   "metadata": {
    "colab": {
     "base_uri": "https://localhost:8080/",
     "height": 424
    },
    "executionInfo": {
     "elapsed": 2247,
     "status": "ok",
     "timestamp": 1657721027148,
     "user": {
      "displayName": "Riccardo Bova",
      "userId": "16906742759511411874"
     },
     "user_tz": -120
    },
    "id": "733qycwJpClh",
    "outputId": "30f34b2b-6420-4553-d55c-c4c5cdc314fd"
   },
   "outputs": [
    {
     "data": {
      "text/html": [
       "\n",
       "  <div id=\"df-35d55370-53b5-4d51-b319-ac3810f476ae\">\n",
       "    <div class=\"colab-df-container\">\n",
       "      <div>\n",
       "<style scoped>\n",
       "    .dataframe tbody tr th:only-of-type {\n",
       "        vertical-align: middle;\n",
       "    }\n",
       "\n",
       "    .dataframe tbody tr th {\n",
       "        vertical-align: top;\n",
       "    }\n",
       "\n",
       "    .dataframe thead th {\n",
       "        text-align: right;\n",
       "    }\n",
       "</style>\n",
       "<table border=\"1\" class=\"dataframe\">\n",
       "  <thead>\n",
       "    <tr style=\"text-align: right;\">\n",
       "      <th></th>\n",
       "      <th>text</th>\n",
       "      <th>label</th>\n",
       "    </tr>\n",
       "  </thead>\n",
       "  <tbody>\n",
       "    <tr>\n",
       "      <th>0</th>\n",
       "      <td>official site good hotel accommodation big sav...</td>\n",
       "      <td>Travel</td>\n",
       "    </tr>\n",
       "    <tr>\n",
       "      <th>1</th>\n",
       "      <td>expedia hotel book sites like use vacation wor...</td>\n",
       "      <td>Travel</td>\n",
       "    </tr>\n",
       "    <tr>\n",
       "      <th>2</th>\n",
       "      <td>tripadvisor hotel book sites like previously d...</td>\n",
       "      <td>Travel</td>\n",
       "    </tr>\n",
       "    <tr>\n",
       "      <th>3</th>\n",
       "      <td>cheap flights search compare flights momondo f...</td>\n",
       "      <td>Travel</td>\n",
       "    </tr>\n",
       "    <tr>\n",
       "      <th>4</th>\n",
       "      <td>bot create free account create free account si...</td>\n",
       "      <td>Travel</td>\n",
       "    </tr>\n",
       "    <tr>\n",
       "      <th>...</th>\n",
       "      <td>...</td>\n",
       "      <td>...</td>\n",
       "    </tr>\n",
       "    <tr>\n",
       "      <th>1371</th>\n",
       "      <td>electroshops home theater decor interiors seat...</td>\n",
       "      <td>Business/Corporate</td>\n",
       "    </tr>\n",
       "    <tr>\n",
       "      <th>1372</th>\n",
       "      <td>clean ridge soap company clean ridge soap comp...</td>\n",
       "      <td>Business/Corporate</td>\n",
       "    </tr>\n",
       "    <tr>\n",
       "      <th>1373</th>\n",
       "      <td>home page pet crafts exquisitely piece handcut...</td>\n",
       "      <td>Business/Corporate</td>\n",
       "    </tr>\n",
       "    <tr>\n",
       "      <th>1374</th>\n",
       "      <td>home theater marketplace home theater seating ...</td>\n",
       "      <td>Business/Corporate</td>\n",
       "    </tr>\n",
       "    <tr>\n",
       "      <th>1375</th>\n",
       "      <td>thrive market healthy living easy buy healthy ...</td>\n",
       "      <td>Business/Corporate</td>\n",
       "    </tr>\n",
       "  </tbody>\n",
       "</table>\n",
       "<p>1376 rows × 2 columns</p>\n",
       "</div>\n",
       "      <button class=\"colab-df-convert\" onclick=\"convertToInteractive('df-35d55370-53b5-4d51-b319-ac3810f476ae')\"\n",
       "              title=\"Convert this dataframe to an interactive table.\"\n",
       "              style=\"display:none;\">\n",
       "        \n",
       "  <svg xmlns=\"http://www.w3.org/2000/svg\" height=\"24px\"viewBox=\"0 0 24 24\"\n",
       "       width=\"24px\">\n",
       "    <path d=\"M0 0h24v24H0V0z\" fill=\"none\"/>\n",
       "    <path d=\"M18.56 5.44l.94 2.06.94-2.06 2.06-.94-2.06-.94-.94-2.06-.94 2.06-2.06.94zm-11 1L8.5 8.5l.94-2.06 2.06-.94-2.06-.94L8.5 2.5l-.94 2.06-2.06.94zm10 10l.94 2.06.94-2.06 2.06-.94-2.06-.94-.94-2.06-.94 2.06-2.06.94z\"/><path d=\"M17.41 7.96l-1.37-1.37c-.4-.4-.92-.59-1.43-.59-.52 0-1.04.2-1.43.59L10.3 9.45l-7.72 7.72c-.78.78-.78 2.05 0 2.83L4 21.41c.39.39.9.59 1.41.59.51 0 1.02-.2 1.41-.59l7.78-7.78 2.81-2.81c.8-.78.8-2.07 0-2.86zM5.41 20L4 18.59l7.72-7.72 1.47 1.35L5.41 20z\"/>\n",
       "  </svg>\n",
       "      </button>\n",
       "      \n",
       "  <style>\n",
       "    .colab-df-container {\n",
       "      display:flex;\n",
       "      flex-wrap:wrap;\n",
       "      gap: 12px;\n",
       "    }\n",
       "\n",
       "    .colab-df-convert {\n",
       "      background-color: #E8F0FE;\n",
       "      border: none;\n",
       "      border-radius: 50%;\n",
       "      cursor: pointer;\n",
       "      display: none;\n",
       "      fill: #1967D2;\n",
       "      height: 32px;\n",
       "      padding: 0 0 0 0;\n",
       "      width: 32px;\n",
       "    }\n",
       "\n",
       "    .colab-df-convert:hover {\n",
       "      background-color: #E2EBFA;\n",
       "      box-shadow: 0px 1px 2px rgba(60, 64, 67, 0.3), 0px 1px 3px 1px rgba(60, 64, 67, 0.15);\n",
       "      fill: #174EA6;\n",
       "    }\n",
       "\n",
       "    [theme=dark] .colab-df-convert {\n",
       "      background-color: #3B4455;\n",
       "      fill: #D2E3FC;\n",
       "    }\n",
       "\n",
       "    [theme=dark] .colab-df-convert:hover {\n",
       "      background-color: #434B5C;\n",
       "      box-shadow: 0px 1px 3px 1px rgba(0, 0, 0, 0.15);\n",
       "      filter: drop-shadow(0px 1px 2px rgba(0, 0, 0, 0.3));\n",
       "      fill: #FFFFFF;\n",
       "    }\n",
       "  </style>\n",
       "\n",
       "      <script>\n",
       "        const buttonEl =\n",
       "          document.querySelector('#df-35d55370-53b5-4d51-b319-ac3810f476ae button.colab-df-convert');\n",
       "        buttonEl.style.display =\n",
       "          google.colab.kernel.accessAllowed ? 'block' : 'none';\n",
       "\n",
       "        async function convertToInteractive(key) {\n",
       "          const element = document.querySelector('#df-35d55370-53b5-4d51-b319-ac3810f476ae');\n",
       "          const dataTable =\n",
       "            await google.colab.kernel.invokeFunction('convertToInteractive',\n",
       "                                                     [key], {});\n",
       "          if (!dataTable) return;\n",
       "\n",
       "          const docLinkHtml = 'Like what you see? Visit the ' +\n",
       "            '<a target=\"_blank\" href=https://colab.research.google.com/notebooks/data_table.ipynb>data table notebook</a>'\n",
       "            + ' to learn more about interactive tables.';\n",
       "          element.innerHTML = '';\n",
       "          dataTable['output_type'] = 'display_data';\n",
       "          await google.colab.output.renderOutput(dataTable, element);\n",
       "          const docLink = document.createElement('div');\n",
       "          docLink.innerHTML = docLinkHtml;\n",
       "          element.appendChild(docLink);\n",
       "        }\n",
       "      </script>\n",
       "    </div>\n",
       "  </div>\n",
       "  "
      ],
      "text/plain": [
       "                                                   text               label\n",
       "0     official site good hotel accommodation big sav...              Travel\n",
       "1     expedia hotel book sites like use vacation wor...              Travel\n",
       "2     tripadvisor hotel book sites like previously d...              Travel\n",
       "3     cheap flights search compare flights momondo f...              Travel\n",
       "4     bot create free account create free account si...              Travel\n",
       "...                                                 ...                 ...\n",
       "1371  electroshops home theater decor interiors seat...  Business/Corporate\n",
       "1372  clean ridge soap company clean ridge soap comp...  Business/Corporate\n",
       "1373  home page pet crafts exquisitely piece handcut...  Business/Corporate\n",
       "1374  home theater marketplace home theater seating ...  Business/Corporate\n",
       "1375  thrive market healthy living easy buy healthy ...  Business/Corporate\n",
       "\n",
       "[1376 rows x 2 columns]"
      ]
     },
     "execution_count": 7,
     "metadata": {},
     "output_type": "execute_result"
    }
   ],
   "source": [
    "df = pd.read_excel(dati)\n",
    "#df = df.drop(columns = [\"Unnamed: 2\", \"Unnamed: 3\", \"Unnamed: 4\"])\n",
    "df = df.rename(columns={\"cleaned_website_text\":\"text\", \"Category\":\"label\"})\n",
    "df"
   ]
  },
  {
   "cell_type": "markdown",
   "metadata": {
    "id": "3w5hNadj0QWp"
   },
   "source": [
    "Osserviamo la distribuzione delle classi"
   ]
  },
  {
   "cell_type": "code",
   "execution_count": 8,
   "metadata": {
    "colab": {
     "base_uri": "https://localhost:8080/",
     "height": 248
    },
    "executionInfo": {
     "elapsed": 351,
     "status": "ok",
     "timestamp": 1657721028463,
     "user": {
      "displayName": "Riccardo Bova",
      "userId": "16906742759511411874"
     },
     "user_tz": -120
    },
    "id": "hjjGSRjQzNwJ",
    "outputId": "e603301e-f486-4f09-bcbb-9e470d08defd"
   },
   "outputs": [
    {
     "data": {
      "image/png": "[encoded data removed]",
      "text/plain": [
       "<Figure size 432x288 with 1 Axes>"
      ]
     },
     "metadata": {},
     "output_type": "display_data"
    }
   ],
   "source": [
    "labels = df['label']\n",
    "labels_singole = np.unique(labels)\n",
    "conteggio = np.zeros(len(labels_singole))\n",
    "for i in range(len(labels)):\n",
    "    label = labels.iloc[i]\n",
    "    for j in range(len(labels_singole)):\n",
    "    if labels_singole[j] == label:\n",
    "        conteggio[j] += 1\n",
    "plt.pie(conteggio, labels=labels_singole)\n",
    "plt.show()"
   ]
  },
  {
   "cell_type": "markdown",
   "metadata": {
    "id": "eQWJsFlM0XHl"
   },
   "source": [
    "Il grafico suggerisce che le classi sono bilanciate, il che ci solleva dal fare data augmentation"
   ]
  },
  {
   "cell_type": "code",
   "execution_count": 9,
   "metadata": {
    "executionInfo": {
     "elapsed": 300,
     "status": "ok",
     "timestamp": 1657721030970,
     "user": {
      "displayName": "Riccardo Bova",
      "userId": "16906742759511411874"
     },
     "user_tz": -120
    },
    "id": "wknU--VFt1wi"
   },
   "outputs": [],
   "source": [
    "X = (df['text'].copy().to_numpy()).astype(str)\n",
    "y = df['label'].copy().to_numpy()\n",
    "categorie = (np.unique(y)).tolist()\n",
    "for i in range(len(y)):\n",
    "    y[i] = categorie.index(y[i])\n",
    "y = y.astype(int)"
   ]
  },
  {
   "cell_type": "markdown",
   "metadata": {
    "id": "MGArVstg192R"
   },
   "source": [
    "<h1>Preprocessing</h1>"
   ]
  },
  {
   "cell_type": "markdown",
   "metadata": {
    "id": "nZrjDlb83XpF"
   },
   "source": [
    "Prepariamo le trasformazioni da inserire nella pipeline"
   ]
  },
  {
   "cell_type": "code",
   "execution_count": 10,
   "metadata": {
    "executionInfo": {
     "elapsed": 644,
     "status": "ok",
     "timestamp": 1657721033764,
     "user": {
      "displayName": "Riccardo Bova",
      "userId": "16906742759511411874"
     },
     "user_tz": -120
    },
    "id": "HQWJJglQVzUS"
   },
   "outputs": [],
   "source": [
    "#Ritorna una lista di liste. Ogni lista è un documento fatto a lista di token\n",
    "class Tokenizer(BaseEstimator, TransformerMixin):\n",
    "    def fit(self, X, y = None):\n",
    "        return self\n",
    "\n",
    "    def transform(self, X, y = None):\n",
    "        import copy\n",
    "        from nltk.corpus import stopwords\n",
    "        from nltk.stem import WordNetLemmatizer\n",
    "        from nltk.tokenize import word_tokenize\n",
    "        from mlxtend.frequent_patterns import apriori, association_rules\n",
    "        from mlxtend.preprocessing import TransactionEncoder\n",
    "        import nltk\n",
    "        import pandas as pd\n",
    "        wn = nltk.corpus.wordnet\n",
    "        X_lista = []\n",
    "        if type(X) != list:\n",
    "            X_lista = copy.deepcopy(X).tolist()\n",
    "        else:\n",
    "            X_lista = copy.deepcopy(X)\n",
    "        for i in range(len(X_lista)):\n",
    "            stringa = X_lista[i]\n",
    "            tokens = word_tokenize(stringa) #tokenizza\n",
    "            X_lista[i] = tokens\n",
    "        return X_lista\n",
    "\n",
    "\n",
    "class NonWordsRemover(BaseEstimator, TransformerMixin):\n",
    "    def fit(self, X, y = None):\n",
    "        return self\n",
    "\n",
    "    def transform(self, X, y = None):\n",
    "        import copy\n",
    "        from nltk.corpus import stopwords\n",
    "        from nltk.stem import WordNetLemmatizer\n",
    "        from nltk.tokenize import word_tokenize\n",
    "        from mlxtend.frequent_patterns import apriori, association_rules\n",
    "        from mlxtend.preprocessing import TransactionEncoder\n",
    "        import nltk\n",
    "        import pandas as pd\n",
    "        wn = nltk.corpus.wordnet\n",
    "        X_ = copy.deepcopy(X)\n",
    "        for i in range(len(X_)):\n",
    "            tokens = X_[i]\n",
    "            da_eliminare = []\n",
    "            for j in range(len(tokens)):\n",
    "                sin = wn.synsets(tokens[j])\n",
    "                #una parola senza sinonimi non è una parola (ogni parola contiene almeno un sinonimo, ossia la parola stessa)\n",
    "                if sin == []:\n",
    "                    da_eliminare.append(tokens[j])\n",
    "            for t in da_eliminare:\n",
    "                tokens.remove(t)\n",
    "        return X_\n",
    "\n",
    "\n",
    "class Lemmatizer(BaseEstimator, TransformerMixin):\n",
    "    def fit(self, X, y = None):\n",
    "        return self\n",
    "    \n",
    "    def transform(self, X, y = None):\n",
    "        import copy\n",
    "        from nltk.corpus import stopwords\n",
    "        from nltk.stem import WordNetLemmatizer\n",
    "        from nltk.tokenize import word_tokenize\n",
    "        from mlxtend.frequent_patterns import apriori, association_rules\n",
    "        from mlxtend.preprocessing import TransactionEncoder\n",
    "        import nltk\n",
    "        import pandas as pd\n",
    "        lemmatizer = WordNetLemmatizer()\n",
    "        wn = nltk.corpus.wordnet\n",
    "        X_ = copy.deepcopy(X)\n",
    "        for i in range(len(X_)):\n",
    "            tokens = X_[i]\n",
    "            tokens2 = []\n",
    "            for k in range(len(tokens)):\n",
    "                tokens2.append(lemmatizer.lemmatize(tokens[k]))\n",
    "            X_[i] = tokens2\n",
    "        return X_\n",
    "\n",
    "\n",
    "#rimuoviamo numeri e parole che contengono numeri\n",
    "class NumberRemover(BaseEstimator, TransformerMixin):\n",
    "    def fit(self, X, y = None):\n",
    "        return self\n",
    "    \n",
    "    def transform(self, X, y = None):\n",
    "        import copy\n",
    "        from nltk.corpus import stopwords\n",
    "        from nltk.stem import WordNetLemmatizer\n",
    "        from nltk.tokenize import word_tokenize\n",
    "        from mlxtend.frequent_patterns import apriori, association_rules\n",
    "        from mlxtend.preprocessing import TransactionEncoder\n",
    "        import nltk\n",
    "        import pandas as pd\n",
    "        wn = nltk.corpus.wordnet\n",
    "        X_ = copy.deepcopy(X)\n",
    "        numeri = ['0', '1', '2', '3', '4', '5', '6', '7', '8', '9']\n",
    "        #per ogni documento\n",
    "        for d in X_:\n",
    "          i = 0\n",
    "          while i < len(d):\n",
    "            parola = d[i]\n",
    "            ok = True\n",
    "            for j in range(len(parola)):\n",
    "                if parola[j] in numeri:\n",
    "                    ok = False\n",
    "                    break\n",
    "            if ok:\n",
    "                i += 1\n",
    "            else:\n",
    "                d.pop(i) \n",
    "        return X_\n",
    "\n",
    "\n",
    "class ShortWordRemover(BaseEstimator, TransformerMixin):\n",
    "    def __init__(self, minimum_length):\n",
    "        self.minimum_length = minimum_length\n",
    "  \n",
    "    def fit(self, X, y = None):\n",
    "        return self\n",
    "    \n",
    "    def transform(self, X, y = None):\n",
    "        import copy\n",
    "        from nltk.corpus import stopwords\n",
    "        from nltk.stem import WordNetLemmatizer\n",
    "        from nltk.tokenize import word_tokenize\n",
    "        from mlxtend.frequent_patterns import apriori, association_rules\n",
    "        from mlxtend.preprocessing import TransactionEncoder\n",
    "        import nltk\n",
    "        import pandas as pd\n",
    "        wn = nltk.corpus.wordnet\n",
    "        X_ = copy.deepcopy(X)\n",
    "        for d in X_:\n",
    "            i = 0\n",
    "            while i < len(d):\n",
    "                if len(d[i]) <= self.minimum_length:\n",
    "                    d.pop(i)\n",
    "                else:\n",
    "                    i += 1\n",
    "        return X_\n",
    "\n",
    "\n",
    "#trasforma la rappresentazione lista di liste di token nella rappresentazione originaria\n",
    "class Strlists2Documents(BaseEstimator, TransformerMixin):\n",
    "    def fit(self, X, y = None):\n",
    "        return self\n",
    "    \n",
    "    def transform(self, X, y = None):\n",
    "        import copy\n",
    "        from nltk.corpus import stopwords\n",
    "        from nltk.stem import WordNetLemmatizer\n",
    "        from nltk.tokenize import word_tokenize\n",
    "        from mlxtend.frequent_patterns import apriori, association_rules\n",
    "        from mlxtend.preprocessing import TransactionEncoder\n",
    "        import nltk\n",
    "        import pandas as pd\n",
    "        wn = nltk.corpus.wordnet\n",
    "        X_ = copy.deepcopy(X)\n",
    "        X_stringhe = []\n",
    "        for d in X_:\n",
    "            s = d[:]\n",
    "            i = 1\n",
    "            #nella rappresentazione originaria abbiamo: parola spazio parola spazio ...\n",
    "            #questo while mette lo spazio nelle posizioni dispari della lista di stringhe\n",
    "            #relativa al documento corrente\n",
    "            while i < len(s):\n",
    "                s.insert(i, \" \")\n",
    "                i += 2\n",
    "            #concatena tutto ciò che sta nella lista in una unica stringa\n",
    "            X_stringhe.append(''.join(s))\n",
    "        return X_stringhe\n",
    "\n",
    "\n",
    "'''\n",
    "Parole che co-occorrono frequentemente vengono fuse in parole singole.\n",
    "La co-occorrenza si calcola SOLO fra documenti della stessa categoria.\n",
    "Ad esempio, se \"machine\" e \"learning\" compaiono spesso insieme nella categoria education, \n",
    "viene generata una nuova parola \"machinelearning\" e ogni occorrenza delle due parole\n",
    "all'interno di TUTTI i documenti viene sostituita con tale \"superparola\".\n",
    "'''\n",
    "class Superparolizer(BaseEstimator, TransformerMixin):\n",
    "    def __init__(self, categoria, supporto, confidenza, ipsilon):\n",
    "        self.categoria = categoria\n",
    "        self.supporto = supporto\n",
    "        self.confidenza = confidenza\n",
    "        self.ipsilon = ipsilon\n",
    "\n",
    "    def fit(self, X, y = None):\n",
    "        import copy\n",
    "        from nltk.corpus import stopwords\n",
    "        from nltk.stem import WordNetLemmatizer\n",
    "        from nltk.tokenize import word_tokenize\n",
    "        from mlxtend.frequent_patterns import apriori, association_rules\n",
    "        from mlxtend.preprocessing import TransactionEncoder\n",
    "        import nltk\n",
    "        import pandas as pd\n",
    "        wn = nltk.corpus.wordnet\n",
    "        self.X_ = copy.deepcopy(X)\n",
    "        #la libreria non funziona se si mette l'operazione di copia nel costruttore\n",
    "        y_ = copy.deepcopy(self.ipsilon)\n",
    "        #prendi i documenti relativi alla categoria\n",
    "        lista = []\n",
    "        for idx, doc in enumerate(self.X_):\n",
    "            if y_[idx] == self.categoria:\n",
    "                lista.append(doc)\n",
    "        te = TransactionEncoder()\n",
    "        te_ary = te.fit(lista).transform(lista)\n",
    "        #sulle colonne ci sono le parole, sule righe i documenti. C'è un 1 se il documento contiene la parola, 0 altrimenti\n",
    "        transazioni = pd.DataFrame(te_ary, columns=te.columns_)\n",
    "        frq_items = apriori(transazioni, min_support = self.supporto, use_colnames = True)\n",
    "        print('calcolati itemset frequenti')\n",
    "        rules = association_rules(frq_items, metric =\"lift\", min_threshold = 1)\n",
    "        print('calcolate regole')\n",
    "        regole = rules[rules['confidence'] >= self.confidenza][['antecedents','consequents']]\n",
    "        regole['itemset'] = regole.apply(lambda row: frozenset(row.antecedents.union(row.consequents)), axis = 1)\n",
    "        itemsets = regole['itemset'].tolist()\n",
    "        self.itemsets = itemsets\n",
    "        return self\n",
    "  \n",
    "  #X è una lista di liste di parole\n",
    "    def transform(self, X, y = None):\n",
    "        print('superparolizzazione')\n",
    "        for l in self.X_:\n",
    "            self.superparolizza(l, self.itemsets)\n",
    "        print('superparolizzato')\n",
    "        return self.X_\n",
    "\n",
    "    def superparolizza(self, lista_parole, itemsets): \n",
    "        '''\n",
    "        for itemset in itemsets:\n",
    "            contenuto = True #ottimismo\n",
    "            while contenuto:\n",
    "                superparola = \"\"\n",
    "                for parola in itemset:\n",
    "                    if parola not in lista_parole:\n",
    "                        contenuto = False\n",
    "                        break\n",
    "                    superparola += parola\n",
    "                if contenuto: #elimina parole e aggiungi super parola\n",
    "                    for parola in itemset:\n",
    "                        lista_parole.remove(parola)\n",
    "                    lista_parole.append(superparola)\n",
    "            #print('libero')\n",
    "        \n",
    "        '''\n",
    "        import random\n",
    "        if random.random() < 0.001:\n",
    "            print(len(itemsets))\n",
    "        for i in range(len(itemsets)):\n",
    "            contenuto = True\n",
    "            itemset = itemsets[i]\n",
    "            if len(itemset) == 1:\n",
    "                print('errore')\n",
    "            while(contenuto):\n",
    "                insieme_parole = set(lista_parole)\n",
    "                if itemset.issubset(insieme_parole):\n",
    "                    superparola = \"\"\n",
    "                    for parola in itemset:\n",
    "                        superparola+=parola\n",
    "                        lista_parole.remove(parola)\n",
    "                    lista_parole.append(superparola)\n",
    "                else:\n",
    "                    contenuto = False\n",
    "        \n",
    "        \n",
    "                \n"
   ]
  },
  {
   "cell_type": "markdown",
   "metadata": {
    "id": "HFz0BhpO5k_j"
   },
   "source": [
    "<h1>ML classico</h1>"
   ]
  },
  {
   "cell_type": "code",
   "execution_count": 11,
   "metadata": {
    "executionInfo": {
     "elapsed": 263,
     "status": "ok",
     "timestamp": 1657721039072,
     "user": {
      "displayName": "Riccardo Bova",
      "userId": "16906742759511411874"
     },
     "user_tz": -120
    },
    "id": "Pv_vqIKu5kTB"
   },
   "outputs": [],
   "source": [
    "ipsilon = copy.deepcopy(y)\n",
    "pipeline = make_pipeline(\n",
    "    Tokenizer(),\n",
    "    NonWordsRemover(),\n",
    "    Lemmatizer(),\n",
    "    NumberRemover(),\n",
    "    ShortWordRemover(minimum_length=2),\n",
    "    Strlists2Documents(),\n",
    "    CountVectorizer(),\n",
    "    TfidfTransformer(),\n",
    "    OneVsRestClassifier(AdaBoostClassifier(n_estimators=100, random_state=0))\n",
    "    )"
   ]
  },
  {
   "cell_type": "code",
   "execution_count": null,
   "metadata": {
    "colab": {
     "base_uri": "https://localhost:8080/"
    },
    "executionInfo": {
     "elapsed": 380493,
     "status": "ok",
     "timestamp": 1656749660562,
     "user": {
      "displayName": "Riccardo Bova",
      "userId": "16906742759511411874"
     },
     "user_tz": -120
    },
    "id": "MBry6dAN66vC",
    "outputId": "d36d8179-7432-46b2-cce7-6cd37141fb89"
   },
   "outputs": [
    {
     "data": {
      "text/html": [
       "<style>#sk-container-id-7 {color: black;background-color: white;}#sk-container-id-7 pre{padding: 0;}#sk-container-id-7 div.sk-toggleable {background-color: white;}#sk-container-id-7 label.sk-toggleable__label {cursor: pointer;display: block;width: 100%;margin-bottom: 0;padding: 0.3em;box-sizing: border-box;text-align: center;}#sk-container-id-7 label.sk-toggleable__label-arrow:before {content: \"▸\";float: left;margin-right: 0.25em;color: #696969;}#sk-container-id-7 label.sk-toggleable__label-arrow:hover:before {color: black;}#sk-container-id-7 div.sk-estimator:hover label.sk-toggleable__label-arrow:before {color: black;}#sk-container-id-7 div.sk-toggleable__content {max-height: 0;max-width: 0;overflow: hidden;text-align: left;background-color: #f0f8ff;}#sk-container-id-7 div.sk-toggleable__content pre {margin: 0.2em;color: black;border-radius: 0.25em;background-color: #f0f8ff;}#sk-container-id-7 input.sk-toggleable__control:checked~div.sk-toggleable__content {max-height: 200px;max-width: 100%;overflow: auto;}#sk-container-id-7 input.sk-toggleable__control:checked~label.sk-toggleable__label-arrow:before {content: \"▾\";}#sk-container-id-7 div.sk-estimator input.sk-toggleable__control:checked~label.sk-toggleable__label {background-color: #d4ebff;}#sk-container-id-7 div.sk-label input.sk-toggleable__control:checked~label.sk-toggleable__label {background-color: #d4ebff;}#sk-container-id-7 input.sk-hidden--visually {border: 0;clip: rect(1px 1px 1px 1px);clip: rect(1px, 1px, 1px, 1px);height: 1px;margin: -1px;overflow: hidden;padding: 0;position: absolute;width: 1px;}#sk-container-id-7 div.sk-estimator {font-family: monospace;background-color: #f0f8ff;border: 1px dotted black;border-radius: 0.25em;box-sizing: border-box;margin-bottom: 0.5em;}#sk-container-id-7 div.sk-estimator:hover {background-color: #d4ebff;}#sk-container-id-7 div.sk-parallel-item::after {content: \"\";width: 100%;border-bottom: 1px solid gray;flex-grow: 1;}#sk-container-id-7 div.sk-label:hover label.sk-toggleable__label {background-color: #d4ebff;}#sk-container-id-7 div.sk-serial::before {content: \"\";position: absolute;border-left: 1px solid gray;box-sizing: border-box;top: 0;bottom: 0;left: 50%;z-index: 0;}#sk-container-id-7 div.sk-serial {display: flex;flex-direction: column;align-items: center;background-color: white;padding-right: 0.2em;padding-left: 0.2em;position: relative;}#sk-container-id-7 div.sk-item {position: relative;z-index: 1;}#sk-container-id-7 div.sk-parallel {display: flex;align-items: stretch;justify-content: center;background-color: white;position: relative;}#sk-container-id-7 div.sk-item::before, #sk-container-id-7 div.sk-parallel-item::before {content: \"\";position: absolute;border-left: 1px solid gray;box-sizing: border-box;top: 0;bottom: 0;left: 50%;z-index: -1;}#sk-container-id-7 div.sk-parallel-item {display: flex;flex-direction: column;z-index: 1;position: relative;background-color: white;}#sk-container-id-7 div.sk-parallel-item:first-child::after {align-self: flex-end;width: 50%;}#sk-container-id-7 div.sk-parallel-item:last-child::after {align-self: flex-start;width: 50%;}#sk-container-id-7 div.sk-parallel-item:only-child::after {width: 0;}#sk-container-id-7 div.sk-dashed-wrapped {border: 1px dashed gray;margin: 0 0.4em 0.5em 0.4em;box-sizing: border-box;padding-bottom: 0.4em;background-color: white;}#sk-container-id-7 div.sk-label label {font-family: monospace;font-weight: bold;display: inline-block;line-height: 1.2em;}#sk-container-id-7 div.sk-label-container {text-align: center;}#sk-container-id-7 div.sk-container {/* jupyter's `normalize.less` sets `[hidden] { display: none; }` but bootstrap.min.css set `[hidden] { display: none !important; }` so we also need the `!important` here to be able to override the default hidden behavior on the sphinx rendered scikit-learn.org. See: https://github.com/scikit-learn/scikit-learn/issues/21755 */display: inline-block !important;position: relative;}#sk-container-id-7 div.sk-text-repr-fallback {display: none;}</style><div id=\"sk-container-id-7\" class=\"sk-top-container\"><div class=\"sk-text-repr-fallback\"><pre>Pipeline(steps=[(&#x27;tokenizer&#x27;, Tokenizer()),\n",
       "                (&#x27;nonwordsremover&#x27;, NonWordsRemover()),\n",
       "                (&#x27;lemmatizer&#x27;, Lemmatizer()),\n",
       "                (&#x27;numberremover&#x27;, NumberRemover()),\n",
       "                (&#x27;shortwordremover&#x27;, ShortWordRemover(minimum_length=2)),\n",
       "                (&#x27;strlists2documents&#x27;, Strlists2Documents()),\n",
       "                (&#x27;countvectorizer&#x27;, CountVectorizer()),\n",
       "                (&#x27;tfidftransformer&#x27;, TfidfTransformer()),\n",
       "                (&#x27;onevsrestclassifier&#x27;,\n",
       "                 OneVsRestClassifier(estimator=AdaBoostClassifier(n_estimators=100,\n",
       "                                                                  random_state=0)))])</pre><b>In a Jupyter environment, please rerun this cell to show the HTML representation or trust the notebook. <br />On GitHub, the HTML representation is unable to render, please try loading this page with nbviewer.org.</b></div><div class=\"sk-container\" hidden><div class=\"sk-item sk-dashed-wrapped\"><div class=\"sk-label-container\"><div class=\"sk-label sk-toggleable\"><input class=\"sk-toggleable__control sk-hidden--visually\" id=\"sk-estimator-id-68\" type=\"checkbox\" ><label for=\"sk-estimator-id-68\" class=\"sk-toggleable__label sk-toggleable__label-arrow\">Pipeline</label><div class=\"sk-toggleable__content\"><pre>Pipeline(steps=[(&#x27;tokenizer&#x27;, Tokenizer()),\n",
       "                (&#x27;nonwordsremover&#x27;, NonWordsRemover()),\n",
       "                (&#x27;lemmatizer&#x27;, Lemmatizer()),\n",
       "                (&#x27;numberremover&#x27;, NumberRemover()),\n",
       "                (&#x27;shortwordremover&#x27;, ShortWordRemover(minimum_length=2)),\n",
       "                (&#x27;strlists2documents&#x27;, Strlists2Documents()),\n",
       "                (&#x27;countvectorizer&#x27;, CountVectorizer()),\n",
       "                (&#x27;tfidftransformer&#x27;, TfidfTransformer()),\n",
       "                (&#x27;onevsrestclassifier&#x27;,\n",
       "                 OneVsRestClassifier(estimator=AdaBoostClassifier(n_estimators=100,\n",
       "                                                                  random_state=0)))])</pre></div></div></div><div class=\"sk-serial\"><div class=\"sk-item\"><div class=\"sk-estimator sk-toggleable\"><input class=\"sk-toggleable__control sk-hidden--visually\" id=\"sk-estimator-id-69\" type=\"checkbox\" ><label for=\"sk-estimator-id-69\" class=\"sk-toggleable__label sk-toggleable__label-arrow\">Tokenizer</label><div class=\"sk-toggleable__content\"><pre>Tokenizer()</pre></div></div></div><div class=\"sk-item\"><div class=\"sk-estimator sk-toggleable\"><input class=\"sk-toggleable__control sk-hidden--visually\" id=\"sk-estimator-id-70\" type=\"checkbox\" ><label for=\"sk-estimator-id-70\" class=\"sk-toggleable__label sk-toggleable__label-arrow\">NonWordsRemover</label><div class=\"sk-toggleable__content\"><pre>NonWordsRemover()</pre></div></div></div><div class=\"sk-item\"><div class=\"sk-estimator sk-toggleable\"><input class=\"sk-toggleable__control sk-hidden--visually\" id=\"sk-estimator-id-71\" type=\"checkbox\" ><label for=\"sk-estimator-id-71\" class=\"sk-toggleable__label sk-toggleable__label-arrow\">Lemmatizer</label><div class=\"sk-toggleable__content\"><pre>Lemmatizer()</pre></div></div></div><div class=\"sk-item\"><div class=\"sk-estimator sk-toggleable\"><input class=\"sk-toggleable__control sk-hidden--visually\" id=\"sk-estimator-id-72\" type=\"checkbox\" ><label for=\"sk-estimator-id-72\" class=\"sk-toggleable__label sk-toggleable__label-arrow\">NumberRemover</label><div class=\"sk-toggleable__content\"><pre>NumberRemover()</pre></div></div></div><div class=\"sk-item\"><div class=\"sk-estimator sk-toggleable\"><input class=\"sk-toggleable__control sk-hidden--visually\" id=\"sk-estimator-id-73\" type=\"checkbox\" ><label for=\"sk-estimator-id-73\" class=\"sk-toggleable__label sk-toggleable__label-arrow\">ShortWordRemover</label><div class=\"sk-toggleable__content\"><pre>ShortWordRemover(minimum_length=2)</pre></div></div></div><div class=\"sk-item\"><div class=\"sk-estimator sk-toggleable\"><input class=\"sk-toggleable__control sk-hidden--visually\" id=\"sk-estimator-id-74\" type=\"checkbox\" ><label for=\"sk-estimator-id-74\" class=\"sk-toggleable__label sk-toggleable__label-arrow\">Strlists2Documents</label><div class=\"sk-toggleable__content\"><pre>Strlists2Documents()</pre></div></div></div><div class=\"sk-item\"><div class=\"sk-estimator sk-toggleable\"><input class=\"sk-toggleable__control sk-hidden--visually\" id=\"sk-estimator-id-75\" type=\"checkbox\" ><label for=\"sk-estimator-id-75\" class=\"sk-toggleable__label sk-toggleable__label-arrow\">CountVectorizer</label><div class=\"sk-toggleable__content\"><pre>CountVectorizer()</pre></div></div></div><div class=\"sk-item\"><div class=\"sk-estimator sk-toggleable\"><input class=\"sk-toggleable__control sk-hidden--visually\" id=\"sk-estimator-id-76\" type=\"checkbox\" ><label for=\"sk-estimator-id-76\" class=\"sk-toggleable__label sk-toggleable__label-arrow\">TfidfTransformer</label><div class=\"sk-toggleable__content\"><pre>TfidfTransformer()</pre></div></div></div><div class=\"sk-item sk-dashed-wrapped\"><div class=\"sk-label-container\"><div class=\"sk-label sk-toggleable\"><input class=\"sk-toggleable__control sk-hidden--visually\" id=\"sk-estimator-id-77\" type=\"checkbox\" ><label for=\"sk-estimator-id-77\" class=\"sk-toggleable__label sk-toggleable__label-arrow\">onevsrestclassifier: OneVsRestClassifier</label><div class=\"sk-toggleable__content\"><pre>OneVsRestClassifier(estimator=AdaBoostClassifier(n_estimators=100,\n",
       "                                                 random_state=0))</pre></div></div></div><div class=\"sk-parallel\"><div class=\"sk-parallel-item\"><div class=\"sk-item\"><div class=\"sk-label-container\"><div class=\"sk-label sk-toggleable\"><input class=\"sk-toggleable__control sk-hidden--visually\" id=\"sk-estimator-id-78\" type=\"checkbox\" ><label for=\"sk-estimator-id-78\" class=\"sk-toggleable__label sk-toggleable__label-arrow\">estimator: AdaBoostClassifier</label><div class=\"sk-toggleable__content\"><pre>AdaBoostClassifier(n_estimators=100, random_state=0)</pre></div></div></div><div class=\"sk-serial\"><div class=\"sk-item\"><div class=\"sk-estimator sk-toggleable\"><input class=\"sk-toggleable__control sk-hidden--visually\" id=\"sk-estimator-id-79\" type=\"checkbox\" ><label for=\"sk-estimator-id-79\" class=\"sk-toggleable__label sk-toggleable__label-arrow\">AdaBoostClassifier</label><div class=\"sk-toggleable__content\"><pre>AdaBoostClassifier(n_estimators=100, random_state=0)</pre></div></div></div></div></div></div></div></div></div></div></div></div>"
      ],
      "text/plain": [
       "Pipeline(steps=[('tokenizer', Tokenizer()),\n",
       "                ('nonwordsremover', NonWordsRemover()),\n",
       "                ('lemmatizer', Lemmatizer()),\n",
       "                ('numberremover', NumberRemover()),\n",
       "                ('shortwordremover', ShortWordRemover(minimum_length=2)),\n",
       "                ('strlists2documents', Strlists2Documents()),\n",
       "                ('countvectorizer', CountVectorizer()),\n",
       "                ('tfidftransformer', TfidfTransformer()),\n",
       "                ('onevsrestclassifier',\n",
       "                 OneVsRestClassifier(estimator=AdaBoostClassifier(n_estimators=100,\n",
       "                                                                  random_state=0)))])"
      ]
     },
     "execution_count": 49,
     "metadata": {},
     "output_type": "execute_result"
    }
   ],
   "source": [
    "pipeline.fit(X,y)"
   ]
  },
  {
   "cell_type": "code",
   "execution_count": null,
   "metadata": {
    "colab": {
     "base_uri": "https://localhost:8080/"
    },
    "executionInfo": {
     "elapsed": 372155,
     "status": "ok",
     "timestamp": 1656750032714,
     "user": {
      "displayName": "Riccardo Bova",
      "userId": "16906742759511411874"
     },
     "user_tz": -120
    },
    "id": "qRGtNHYD_vh8",
    "outputId": "5df433a3-34fd-4a39-9337-c9f96b3a91a4"
   },
   "outputs": [
    {
     "data": {
      "text/plain": [
       "0.9992732558139535"
      ]
     },
     "execution_count": 50,
     "metadata": {},
     "output_type": "execute_result"
    }
   ],
   "source": [
    "pipeline.score(X,y)"
   ]
  },
  {
   "cell_type": "code",
   "execution_count": null,
   "metadata": {
    "colab": {
     "base_uri": "https://localhost:8080/"
    },
    "executionInfo": {
     "elapsed": 669,
     "status": "ok",
     "timestamp": 1656750033380,
     "user": {
      "displayName": "Riccardo Bova",
      "userId": "16906742759511411874"
     },
     "user_tz": -120
    },
    "id": "tP-UbFYv2-Hz",
    "outputId": "de5f3032-fd28-4ec7-e96a-0de841c772d0"
   },
   "outputs": [
    {
     "data": {
      "text/plain": [
       "['C:\\\\Users\\\\Riccardo\\\\Desktop\\\\Universita\\\\magistrale\\\\secondo anno\\\\Machine deep learning\\\\progettoML\\\\copia_drive\\\\testi\\\\modelli\\\\adaboost']"
      ]
     },
     "execution_count": 51,
     "metadata": {},
     "output_type": "execute_result"
    }
   ],
   "source": [
    "dump(pipeline, os.path.join(modelli,'adaboost'))"
   ]
  },
  {
   "cell_type": "code",
   "execution_count": null,
   "metadata": {
    "colab": {
     "base_uri": "https://localhost:8080/",
     "height": 322
    },
    "executionInfo": {
     "elapsed": 114516,
     "status": "error",
     "timestamp": 1656831729574,
     "user": {
      "displayName": "Riccardo Bova",
      "userId": "16906742759511411874"
     },
     "user_tz": -120
    },
    "id": "qGF9k6XAEVEH",
    "outputId": "0c48ece0-8bfc-4176-bf75-778db3ba4107"
   },
   "outputs": [
    {
     "name": "stderr",
     "output_type": "stream",
     "text": [
      "[Parallel(n_jobs=-1)]: Using backend LokyBackend with 8 concurrent workers.\n",
      "[Parallel(n_jobs=-1)]: Done   6 out of  10 | elapsed:  4.0min remaining:  2.6min\n",
      "[Parallel(n_jobs=-1)]: Done  10 out of  10 | elapsed:  5.8min finished\n"
     ]
    }
   ],
   "source": [
    "scores = cross_val_score(pipeline, X, y, cv=10, n_jobs=-1, error_score='raise', verbose=True)"
   ]
  },
  {
   "cell_type": "code",
   "execution_count": null,
   "metadata": {
    "id": "Jifj_BHenCuV",
    "outputId": "c886120c-c24f-4ea1-ee73-2d865c65f591"
   },
   "outputs": [
    {
     "data": {
      "text/plain": [
       "array([0.76086957, 0.80434783, 0.82608696, 0.7826087 , 0.80434783,\n",
       "       0.80434783, 0.72262774, 0.78832117, 0.81751825, 0.68613139])"
      ]
     },
     "execution_count": 53,
     "metadata": {},
     "output_type": "execute_result"
    }
   ],
   "source": [
    "scores"
   ]
  },
  {
   "cell_type": "code",
   "execution_count": null,
   "metadata": {
    "id": "MG82jel4nCuW",
    "outputId": "41c6e6e3-544f-45ab-854c-6fcab487480b"
   },
   "outputs": [
    {
     "data": {
      "text/plain": [
       "0.7797207235798159"
      ]
     },
     "execution_count": 54,
     "metadata": {},
     "output_type": "execute_result"
    }
   ],
   "source": [
    "np.mean(scores)"
   ]
  },
  {
   "cell_type": "code",
   "execution_count": 12,
   "metadata": {
    "executionInfo": {
     "elapsed": 343,
     "status": "ok",
     "timestamp": 1657723916840,
     "user": {
      "displayName": "Riccardo Bova",
      "userId": "16906742759511411874"
     },
     "user_tz": -120
    },
    "id": "IuzG5kcMqzH_"
   },
   "outputs": [],
   "source": [
    "svm = OneVsRestClassifier(SVC())\n",
    "pipeline2 = copy.deepcopy(pipeline)\n",
    "pipeline2.steps[8] = ('svm', svm)"
   ]
  },
  {
   "cell_type": "code",
   "execution_count": 13,
   "metadata": {
    "colab": {
     "base_uri": "https://localhost:8080/"
    },
    "executionInfo": {
     "elapsed": 127257,
     "status": "ok",
     "timestamp": 1657724044389,
     "user": {
      "displayName": "Riccardo Bova",
      "userId": "16906742759511411874"
     },
     "user_tz": -120
    },
    "id": "mvIqC0DBrjJR",
    "outputId": "a7aa6681-6fae-49d9-e19e-6e0ce4e8c4b9"
   },
   "outputs": [
    {
     "data": {
      "text/plain": [
       "0.9992732558139535"
      ]
     },
     "execution_count": 13,
     "metadata": {},
     "output_type": "execute_result"
    }
   ],
   "source": [
    "pipeline2.fit(X,y)\n",
    "pipeline2.score(X,y)"
   ]
  },
  {
   "cell_type": "code",
   "execution_count": 14,
   "metadata": {
    "executionInfo": {
     "elapsed": 3,
     "status": "ok",
     "timestamp": 1657724045374,
     "user": {
      "displayName": "Riccardo Bova",
      "userId": "16906742759511411874"
     },
     "user_tz": -120
    },
    "id": "GBC2E5MZC6x0"
   },
   "outputs": [],
   "source": [
    "tf_idf = pipeline2.steps[7]"
   ]
  },
  {
   "cell_type": "code",
   "execution_count": 20,
   "metadata": {
    "colab": {
     "base_uri": "https://localhost:8080/"
    },
    "executionInfo": {
     "elapsed": 5,
     "status": "ok",
     "timestamp": 1657724201814,
     "user": {
      "displayName": "Riccardo Bova",
      "userId": "16906742759511411874"
     },
     "user_tz": -120
    },
    "id": "LxETg9B6DZTM",
    "outputId": "bb7c9b9e-53d7-47a6-9f0d-ef5e9d3356b5"
   },
   "outputs": [
    {
     "data": {
      "text/plain": [
       "array(['x0', 'x1', 'x2', ..., 'x22006', 'x22007', 'x22008'], dtype=object)"
      ]
     },
     "execution_count": 20,
     "metadata": {},
     "output_type": "execute_result"
    }
   ],
   "source": [
    "tf_idf[1].get_feature_names_out(input_features=None)"
   ]
  },
  {
   "cell_type": "code",
   "execution_count": null,
   "metadata": {
    "id": "X5F0zrQBnCuW",
    "outputId": "d2386c91-43a3-4ba3-9f47-ef40769dd0a5"
   },
   "outputs": [
    {
     "name": "stderr",
     "output_type": "stream",
     "text": [
      "[Parallel(n_jobs=-1)]: Using backend LokyBackend with 8 concurrent workers.\n",
      "[Parallel(n_jobs=-1)]: Done   6 out of  10 | elapsed:  2.9min remaining:  1.9min\n",
      "[Parallel(n_jobs=-1)]: Done  10 out of  10 | elapsed:  4.1min finished\n"
     ]
    }
   ],
   "source": [
    "scores2 = cross_val_score(pipeline2, X, y, cv=10, n_jobs=-1, error_score='raise', verbose=True)"
   ]
  },
  {
   "cell_type": "code",
   "execution_count": null,
   "metadata": {
    "id": "W-O4fvkanCuX",
    "outputId": "df61d30a-cf96-4284-86fc-f2c5442aac2d"
   },
   "outputs": [
    {
     "data": {
      "text/plain": [
       "array([0.9057971 , 0.94927536, 0.94927536, 0.92028986, 0.91304348,\n",
       "       0.94202899, 0.91970803, 0.91970803, 0.9270073 , 0.84671533])"
      ]
     },
     "execution_count": 61,
     "metadata": {},
     "output_type": "execute_result"
    }
   ],
   "source": [
    "scores2"
   ]
  },
  {
   "cell_type": "code",
   "execution_count": null,
   "metadata": {
    "colab": {
     "base_uri": "https://localhost:8080/"
    },
    "executionInfo": {
     "elapsed": 431853,
     "status": "ok",
     "timestamp": 1651914218368,
     "user": {
      "displayName": "Riccardo Bova",
      "userId": "16906742759511411874"
     },
     "user_tz": -120
    },
    "id": "Iefe1MaGuJXv",
    "outputId": "8535d3ab-9295-44ef-d96a-fddf10899d38"
   },
   "outputs": [
    {
     "data": {
      "text/plain": [
       "0.9192848831058923"
      ]
     },
     "execution_count": 60,
     "metadata": {},
     "output_type": "execute_result"
    }
   ],
   "source": [
    "np.mean(scores2)"
   ]
  },
  {
   "cell_type": "code",
   "execution_count": null,
   "metadata": {
    "id": "lcD0ZQC7nCuX",
    "outputId": "e54130eb-9539-4707-c9fd-87a4952751d3"
   },
   "outputs": [
    {
     "data": {
      "text/plain": [
       "['C:\\\\Users\\\\Riccardo\\\\Desktop\\\\Universita\\\\magistrale\\\\secondo anno\\\\Machine deep learning\\\\progettoML\\\\copia_drive\\\\testi\\\\modelli\\\\svm']"
      ]
     },
     "execution_count": 62,
     "metadata": {},
     "output_type": "execute_result"
    }
   ],
   "source": [
    "dump(pipeline2, os.path.join(modelli,'svm'))"
   ]
  },
  {
   "cell_type": "code",
   "execution_count": null,
   "metadata": {
    "id": "eKgWteucnCuX"
   },
   "outputs": [],
   "source": [
    "knn =  OneVsRestClassifier(KNeighborsClassifier(n_neighbors=5))\n",
    "pipeline3 = copy.deepcopy(pipeline)\n",
    "pipeline3.steps[8] = ('knn', knn)"
   ]
  },
  {
   "cell_type": "code",
   "execution_count": null,
   "metadata": {
    "id": "T-E8K7j2nCuY",
    "outputId": "8e8a21f6-ad2e-4364-df45-a5ee52697ea3"
   },
   "outputs": [
    {
     "data": {
      "text/plain": [
       "0.8924418604651163"
      ]
     },
     "execution_count": 65,
     "metadata": {},
     "output_type": "execute_result"
    }
   ],
   "source": [
    "pipeline3.fit(X,y)\n",
    "pipeline3.score(X,y)"
   ]
  },
  {
   "cell_type": "code",
   "execution_count": null,
   "metadata": {
    "id": "yYE_BMZFnCuY",
    "outputId": "901a7cc7-1005-435f-a7a7-3c6b7aa30f50"
   },
   "outputs": [
    {
     "name": "stderr",
     "output_type": "stream",
     "text": [
      "[Parallel(n_jobs=-1)]: Using backend LokyBackend with 8 concurrent workers.\n",
      "[Parallel(n_jobs=-1)]: Done   6 out of  10 | elapsed:  1.5min remaining:   58.8s\n",
      "[Parallel(n_jobs=-1)]: Done  10 out of  10 | elapsed:  2.0min finished\n"
     ]
    }
   ],
   "source": [
    "scores3 = cross_val_score(pipeline3, X, y, cv=10, n_jobs=-1, error_score='raise', verbose=True)"
   ]
  },
  {
   "cell_type": "code",
   "execution_count": null,
   "metadata": {
    "id": "5H1KqMD9nCuY",
    "outputId": "3cfa9741-8995-46d9-eb38-efa374cc3624"
   },
   "outputs": [
    {
     "data": {
      "text/plain": [
       "array([0.8115942 , 0.84057971, 0.8115942 , 0.82608696, 0.79710145,\n",
       "       0.76811594, 0.83211679, 0.78832117, 0.80291971, 0.73722628])"
      ]
     },
     "execution_count": 67,
     "metadata": {},
     "output_type": "execute_result"
    }
   ],
   "source": [
    "scores3"
   ]
  },
  {
   "cell_type": "code",
   "execution_count": null,
   "metadata": {
    "id": "1D-zeJf6nCuY",
    "outputId": "5d373fa8-2ecd-4a8d-b2ae-1c5cb00492db"
   },
   "outputs": [
    {
     "data": {
      "text/plain": [
       "0.8015656405373957"
      ]
     },
     "execution_count": 68,
     "metadata": {},
     "output_type": "execute_result"
    }
   ],
   "source": [
    "np.mean(scores3)"
   ]
  },
  {
   "cell_type": "code",
   "execution_count": null,
   "metadata": {
    "id": "vuXceEd-nCuZ",
    "outputId": "05252904-653d-4f8f-fe4b-2f5a680dc9e9"
   },
   "outputs": [
    {
     "data": {
      "text/plain": [
       "['C:\\\\Users\\\\Riccardo\\\\Desktop\\\\Universita\\\\magistrale\\\\secondo anno\\\\Machine deep learning\\\\progettoML\\\\copia_drive\\\\testi\\\\modelli\\\\knn']"
      ]
     },
     "execution_count": 69,
     "metadata": {},
     "output_type": "execute_result"
    }
   ],
   "source": [
    "dump(pipeline3, os.path.join(modelli,'knn'))"
   ]
  },
  {
   "cell_type": "markdown",
   "metadata": {
    "id": "p9tkTToFpggB"
   },
   "source": [
    "<h1>Reti neurali</h1>"
   ]
  },
  {
   "cell_type": "code",
   "execution_count": 22,
   "metadata": {
    "executionInfo": {
     "elapsed": 2070,
     "status": "ok",
     "timestamp": 1657724506700,
     "user": {
      "displayName": "Riccardo Bova",
      "userId": "16906742759511411874"
     },
     "user_tz": -120
    },
    "id": "s4WC_nyjnCuZ"
   },
   "outputs": [],
   "source": [
    "import tensorflow as tf\n",
    "from tensorflow.keras.models import Sequential\n",
    "from tensorflow.keras.layers import Dense\n",
    "from tensorflow.keras.layers import LSTM\n",
    "from tensorflow.keras.layers import Embedding\n",
    "from tensorflow.keras.layers import TextVectorization, Input\n",
    "from tensorflow.keras import initializers\n",
    "from keras.preprocessing import sequence\n",
    "from tensorflow import keras\n",
    "from keras.models import Model"
   ]
  },
  {
   "cell_type": "code",
   "execution_count": null,
   "metadata": {
    "id": "dL8B2BY8djkQ"
   },
   "outputs": [],
   "source": [
    "embedding_vecor_length = 50\n",
    "#vocabulary_size = 57651\n",
    "vocabulary_size = 5000\n",
    "max_seq_len = 200\n",
    "word2index = TextVectorization(max_tokens=vocabulary_size, output_mode='int', output_sequence_length=max_seq_len)\n",
    "word2index.adapt(X)"
   ]
  },
  {
   "cell_type": "code",
   "execution_count": null,
   "metadata": {
    "colab": {
     "base_uri": "https://localhost:8080/"
    },
    "executionInfo": {
     "elapsed": 22040,
     "status": "ok",
     "timestamp": 1657439899572,
     "user": {
      "displayName": "Riccardo Bova",
      "userId": "16906742759511411874"
     },
     "user_tz": -120
    },
    "id": "C8ob0Ajt-xVK",
    "outputId": "7a2ee847-d220-47a0-ba13-3dc222600f53"
   },
   "outputs": [
    {
     "name": "stdout",
     "output_type": "stream",
     "text": [
      "Model: \"sequential_52\"\n",
      "_________________________________________________________________\n",
      " Layer (type)                Output Shape              Param #   \n",
      "=================================================================\n",
      " text_vectorization_39 (Text  (None, 200)              0         \n",
      " Vectorization)                                                  \n",
      "                                                                 \n",
      " embedding_51 (Embedding)    (None, 200, 50)           250000    \n",
      "                                                                 \n",
      " bidirectional_23 (Bidirecti  (None, 100)              40400     \n",
      " onal)                                                           \n",
      "                                                                 \n",
      " dense_50 (Dense)            (None, 14)                1414      \n",
      "                                                                 \n",
      "=================================================================\n",
      "Total params: 291,814\n",
      "Trainable params: 291,814\n",
      "Non-trainable params: 0\n",
      "_________________________________________________________________\n",
      "None\n",
      "Epoch 1/30\n",
      "22/22 [==============================] - 4s 26ms/step - loss: 2.6331 - accuracy: 0.1054\n",
      "Epoch 2/30\n",
      "22/22 [==============================] - 1s 27ms/step - loss: 2.5539 - accuracy: 0.2093\n",
      "Epoch 3/30\n",
      "22/22 [==============================] - 1s 27ms/step - loss: 2.2817 - accuracy: 0.2078\n",
      "Epoch 4/30\n",
      "22/22 [==============================] - 1s 27ms/step - loss: 2.0320 - accuracy: 0.2900\n",
      "Epoch 5/30\n",
      "22/22 [==============================] - 1s 27ms/step - loss: 1.9826 - accuracy: 0.3031\n",
      "Epoch 6/30\n",
      "22/22 [==============================] - 1s 27ms/step - loss: 1.8191 - accuracy: 0.4048\n",
      "Epoch 7/30\n",
      "22/22 [==============================] - 1s 27ms/step - loss: 1.7635 - accuracy: 0.4288\n",
      "Epoch 8/30\n",
      "22/22 [==============================] - 1s 27ms/step - loss: 1.5633 - accuracy: 0.5240\n",
      "Epoch 9/30\n",
      "22/22 [==============================] - 1s 27ms/step - loss: 1.3865 - accuracy: 0.5516\n",
      "Epoch 10/30\n",
      "22/22 [==============================] - 1s 28ms/step - loss: 1.3579 - accuracy: 0.6163\n",
      "Epoch 11/30\n",
      "22/22 [==============================] - 1s 27ms/step - loss: 1.2671 - accuracy: 0.6802\n",
      "Epoch 12/30\n",
      "22/22 [==============================] - 1s 27ms/step - loss: 1.0469 - accuracy: 0.7449\n",
      "Epoch 13/30\n",
      "22/22 [==============================] - 1s 27ms/step - loss: 0.9760 - accuracy: 0.7580\n",
      "Epoch 14/30\n",
      "22/22 [==============================] - 1s 27ms/step - loss: 0.8678 - accuracy: 0.8278\n",
      "Epoch 15/30\n",
      "22/22 [==============================] - 1s 27ms/step - loss: 0.7133 - accuracy: 0.8459\n",
      "Epoch 16/30\n",
      "22/22 [==============================] - 1s 27ms/step - loss: 0.6729 - accuracy: 0.8554\n",
      "Epoch 17/30\n",
      "22/22 [==============================] - 1s 27ms/step - loss: 0.5375 - accuracy: 0.8808\n",
      "Epoch 18/30\n",
      "22/22 [==============================] - 1s 27ms/step - loss: 0.4539 - accuracy: 0.8786\n",
      "Epoch 19/30\n",
      "22/22 [==============================] - 1s 27ms/step - loss: 0.4430 - accuracy: 0.8823\n",
      "Epoch 20/30\n",
      "22/22 [==============================] - 1s 27ms/step - loss: 0.4032 - accuracy: 0.9048\n",
      "Epoch 21/30\n",
      "22/22 [==============================] - 1s 27ms/step - loss: 0.3499 - accuracy: 0.9186\n",
      "Epoch 22/30\n",
      "22/22 [==============================] - 1s 27ms/step - loss: 0.3040 - accuracy: 0.9215\n",
      "Epoch 23/30\n",
      "22/22 [==============================] - 1s 27ms/step - loss: 0.2891 - accuracy: 0.9520\n",
      "Epoch 24/30\n",
      "22/22 [==============================] - 1s 27ms/step - loss: 0.2443 - accuracy: 0.9608\n",
      "Epoch 25/30\n",
      "22/22 [==============================] - 1s 27ms/step - loss: 0.2324 - accuracy: 0.9680\n",
      "Epoch 26/30\n",
      "22/22 [==============================] - 1s 27ms/step - loss: 0.2180 - accuracy: 0.9680\n",
      "Epoch 27/30\n",
      "22/22 [==============================] - 1s 27ms/step - loss: 0.1703 - accuracy: 0.9789\n",
      "Epoch 28/30\n",
      "22/22 [==============================] - 1s 28ms/step - loss: 0.1594 - accuracy: 0.9789\n",
      "Epoch 29/30\n",
      "22/22 [==============================] - 1s 27ms/step - loss: 0.2266 - accuracy: 0.9513\n",
      "Epoch 30/30\n",
      "22/22 [==============================] - 1s 27ms/step - loss: 0.1566 - accuracy: 0.9797\n"
     ]
    },
    {
     "data": {
      "text/plain": [
       "<keras.callbacks.History at 0x7fa67b769e90>"
      ]
     },
     "execution_count": 41,
     "metadata": {},
     "output_type": "execute_result"
    }
   ],
   "source": [
    "#input_shape=[max_seq_len]\n",
    "#, input_length=max_seq_len,\n",
    "#, mask_zero=True\n",
    "batch_size = 64\n",
    "model = Sequential()\n",
    "model.add(tf.keras.Input(shape=(1,), dtype=tf.string))\n",
    "model.add(word2index)\n",
    "model.add(tf.keras.layers.Embedding(vocabulary_size, embedding_vecor_length))\n",
    "model.add(tf.keras.layers.Bidirectional(LSTM(embedding_vecor_length, kernel_initializer='random_normal', dropout=0.5)))\n",
    "#model.add(LSTM(embedding_vecor_length, kernel_initializer='random_normal'))\n",
    "#model.add(LSTM(75, return_sequences=True, kernel_initializer='random_normal'))\n",
    "#model.add(LSTM(50, return_sequences=True, kernel_initializer='random_normal'))\n",
    "#model.add(LSTM(25))\n",
    "#model.add(LSTM(70))\n",
    "#model.add(LSTM(40))\n",
    "#model.add(Dense(50, activation='relu', kernel_initializer='random_normal'))\n",
    "#model.add(Dense(30, activation='relu', kernel_initializer='random_normal'))\n",
    "#model.add(Dense(25, activation='relu', kernel_initializer='random_normal'))\n",
    "model.add(tf.keras.layers.Dense(14, activation='softmax'))\n",
    "opt = keras.optimizers.Adam()\n",
    "model.compile(loss='sparse_categorical_crossentropy', optimizer=opt, metrics=['accuracy'])\n",
    "print(model.summary())\n",
    "model.fit(X, y,  epochs=30, batch_size=batch_size)"
   ]
  },
  {
   "cell_type": "code",
   "execution_count": null,
   "metadata": {
    "id": "ixr88hPNTQEn"
   },
   "outputs": [],
   "source": [
    "class RNN(BaseEstimator, ClassifierMixin):\n",
    "    def __init__(self, embedding_vector_length = 50, vocabulary_size=5000, max_seq_length=200):\n",
    "        self.embedding_vector_length = embedding_vector_length\n",
    "        self.vocabulary_size = vocabulary_size\n",
    "        self.max_seq_length = max_seq_length\n",
    "\n",
    "        word2index = TextVectorization(max_tokens=self.vocabulary_size, output_mode='int', output_sequence_length=self.max_seq_length)\n",
    "        self.word2index = word2index\n",
    "        model = Sequential()\n",
    "        model.add(tf.keras.Input(shape=(1,), dtype=tf.string))\n",
    "        model.add(word2index)\n",
    "        model.add(tf.keras.layers.Embedding(self.vocabulary_size, self.embedding_vector_length))\n",
    "        #aggiunto dropout\n",
    "        model.add(tf.keras.layers.Bidirectional(LSTM(self.embedding_vector_length, kernel_initializer='random_normal', dropout=0.5)))\n",
    "        #model.add(LSTM(self.embedding_vector_length, kernel_initializer='random_normal', dropout=0.2))\n",
    "        #model.add(Dense(50, activation='relu', kernel_initializer='random_normal'))\n",
    "        #model.add(tf.keras.layers.Dropout(.2))\n",
    "        #model.add(Dense(30, activation='relu', kernel_initializer='random_normal'))\n",
    "        #model.add(tf.keras.layers.Dropout(.2))\n",
    "        #model.add(Dense(25, activation='relu', kernel_initializer='random_normal'))\n",
    "        #model.add(tf.keras.layers.Dropout(.2))\n",
    "        model.add(tf.keras.layers.Dense(14, activation='softmax'))\n",
    "        self.opt = keras.optimizers.Adam()\n",
    "        self.modello = model\n",
    "\n",
    "    def fit(self, X, y):\n",
    "        self.fitted = True\n",
    "        batch_size = 64\n",
    "        epochs = 30\n",
    "        # Check that X and y have correct shape\n",
    "        #X, y = check_X_y(X, y)\n",
    "        # Store the classes seen during fit\n",
    "        self.classes_ = unique_labels(y)\n",
    "\n",
    "        self.word2index.adapt(X)\n",
    "        self.modello.compile(loss='sparse_categorical_crossentropy', optimizer=self.opt, metrics=['accuracy'])\n",
    "        self.X_ = X\n",
    "        self.y_ = y\n",
    "        # Return the classifier\n",
    "        self.modello.fit(X, y,  epochs=epochs, batch_size=batch_size)\n",
    "        return self\n",
    "\n",
    "    def predict(self, X):\n",
    "        # Check if fit has been called\n",
    "        check_is_fitted(self)\n",
    "\n",
    "        # Input validation\n",
    "        #X = check_array(X)\n",
    "\n",
    "        #closest = np.argmin(euclidean_distances(X, self.X_), axis=1)\n",
    "        #return self.y_[closest]model.predict_classes(Xnew)\n",
    "        return np.argmax(self.modello.predict(X), axis = -1)"
   ]
  },
  {
   "cell_type": "code",
   "execution_count": null,
   "metadata": {
    "id": "v-86TB7-cQPs"
   },
   "outputs": [],
   "source": [
    "rnn = RNN(embedding_vector_length=100)"
   ]
  },
  {
   "cell_type": "code",
   "execution_count": null,
   "metadata": {
    "colab": {
     "base_uri": "https://localhost:8080/"
    },
    "executionInfo": {
     "elapsed": 241098,
     "status": "ok",
     "timestamp": 1657439859918,
     "user": {
      "displayName": "Riccardo Bova",
      "userId": "16906742759511411874"
     },
     "user_tz": -120
    },
    "id": "MN4NM4vucdsl",
    "outputId": "9ae7a54d-d8fd-45f2-e3ef-4b7f8b334478"
   },
   "outputs": [
    {
     "name": "stderr",
     "output_type": "stream",
     "text": [
      "[Parallel(n_jobs=1)]: Using backend SequentialBackend with 1 concurrent workers.\n"
     ]
    },
    {
     "name": "stdout",
     "output_type": "stream",
     "text": [
      "Epoch 1/30\n",
      "20/20 [==============================] - 4s 31ms/step - loss: 2.6165 - accuracy: 0.1220\n",
      "Epoch 2/30\n",
      "20/20 [==============================] - 1s 30ms/step - loss: 2.4399 - accuracy: 0.2060\n",
      "Epoch 3/30\n",
      "20/20 [==============================] - 1s 30ms/step - loss: 2.1131 - accuracy: 0.3530\n",
      "Epoch 4/30\n",
      "20/20 [==============================] - 1s 30ms/step - loss: 1.7973 - accuracy: 0.4265\n",
      "Epoch 5/30\n",
      "20/20 [==============================] - 1s 30ms/step - loss: 1.3743 - accuracy: 0.6333\n",
      "Epoch 6/30\n",
      "20/20 [==============================] - 1s 30ms/step - loss: 1.2935 - accuracy: 0.6616\n",
      "Epoch 7/30\n",
      "20/20 [==============================] - 1s 31ms/step - loss: 1.0466 - accuracy: 0.7399\n",
      "Epoch 8/30\n",
      "20/20 [==============================] - 1s 30ms/step - loss: 0.7749 - accuracy: 0.8126\n",
      "Epoch 9/30\n",
      "20/20 [==============================] - 1s 31ms/step - loss: 0.6315 - accuracy: 0.8304\n",
      "Epoch 10/30\n",
      "20/20 [==============================] - 1s 30ms/step - loss: 0.5138 - accuracy: 0.8465\n",
      "Epoch 11/30\n",
      "20/20 [==============================] - 1s 31ms/step - loss: 0.4023 - accuracy: 0.9023\n",
      "Epoch 12/30\n",
      "20/20 [==============================] - 1s 31ms/step - loss: 0.3460 - accuracy: 0.9176\n",
      "Epoch 13/30\n",
      "20/20 [==============================] - 1s 30ms/step - loss: 0.3046 - accuracy: 0.9354\n",
      "Epoch 14/30\n",
      "20/20 [==============================] - 1s 31ms/step - loss: 0.2457 - accuracy: 0.9572\n",
      "Epoch 15/30\n",
      "20/20 [==============================] - 1s 30ms/step - loss: 0.1756 - accuracy: 0.9709\n",
      "Epoch 16/30\n",
      "20/20 [==============================] - 1s 31ms/step - loss: 0.1259 - accuracy: 0.9806\n",
      "Epoch 17/30\n",
      "20/20 [==============================] - 1s 30ms/step - loss: 0.0944 - accuracy: 0.9855\n",
      "Epoch 18/30\n",
      "20/20 [==============================] - 1s 30ms/step - loss: 0.0776 - accuracy: 0.9927\n",
      "Epoch 19/30\n",
      "20/20 [==============================] - 1s 31ms/step - loss: 0.0546 - accuracy: 0.9952\n",
      "Epoch 20/30\n",
      "20/20 [==============================] - 1s 31ms/step - loss: 0.0711 - accuracy: 0.9895\n",
      "Epoch 21/30\n",
      "20/20 [==============================] - 1s 31ms/step - loss: 0.0436 - accuracy: 0.9976\n",
      "Epoch 22/30\n",
      "20/20 [==============================] - 1s 31ms/step - loss: 0.0660 - accuracy: 0.9927\n",
      "Epoch 23/30\n",
      "20/20 [==============================] - 1s 31ms/step - loss: 0.1302 - accuracy: 0.9709\n",
      "Epoch 24/30\n",
      "20/20 [==============================] - 1s 31ms/step - loss: 0.1750 - accuracy: 0.9677\n",
      "Epoch 25/30\n",
      "20/20 [==============================] - 1s 30ms/step - loss: 0.0794 - accuracy: 0.9895\n",
      "Epoch 26/30\n",
      "20/20 [==============================] - 1s 30ms/step - loss: 0.0492 - accuracy: 0.9960\n",
      "Epoch 27/30\n",
      "20/20 [==============================] - 1s 31ms/step - loss: 0.0470 - accuracy: 0.9919\n",
      "Epoch 28/30\n",
      "20/20 [==============================] - 1s 30ms/step - loss: 0.0324 - accuracy: 0.9984\n",
      "Epoch 29/30\n",
      "20/20 [==============================] - 1s 30ms/step - loss: 0.0446 - accuracy: 0.9935\n",
      "Epoch 30/30\n",
      "20/20 [==============================] - 1s 30ms/step - loss: 0.0428 - accuracy: 0.9943\n",
      "Epoch 1/30\n",
      "20/20 [==============================] - 4s 31ms/step - loss: 2.6187 - accuracy: 0.1082\n",
      "Epoch 2/30\n",
      "20/20 [==============================] - 1s 30ms/step - loss: 2.4375 - accuracy: 0.2116\n",
      "Epoch 3/30\n",
      "20/20 [==============================] - 1s 29ms/step - loss: 2.2417 - accuracy: 0.3223\n",
      "Epoch 4/30\n",
      "20/20 [==============================] - 1s 30ms/step - loss: 1.8388 - accuracy: 0.3805\n",
      "Epoch 5/30\n",
      "20/20 [==============================] - 1s 30ms/step - loss: 1.5422 - accuracy: 0.4628\n",
      "Epoch 6/30\n",
      "20/20 [==============================] - 1s 30ms/step - loss: 1.3570 - accuracy: 0.5388\n",
      "Epoch 7/30\n",
      "20/20 [==============================] - 1s 30ms/step - loss: 1.0436 - accuracy: 0.7246\n",
      "Epoch 8/30\n",
      "20/20 [==============================] - 1s 30ms/step - loss: 0.8904 - accuracy: 0.7342\n",
      "Epoch 9/30\n",
      "20/20 [==============================] - 1s 30ms/step - loss: 0.7128 - accuracy: 0.8498\n",
      "Epoch 10/30\n",
      "20/20 [==============================] - 1s 30ms/step - loss: 0.5837 - accuracy: 0.8619\n",
      "Epoch 11/30\n",
      "20/20 [==============================] - 1s 30ms/step - loss: 0.4641 - accuracy: 0.9015\n",
      "Epoch 12/30\n",
      "20/20 [==============================] - 1s 30ms/step - loss: 0.5410 - accuracy: 0.8514\n",
      "Epoch 13/30\n",
      "20/20 [==============================] - 1s 31ms/step - loss: 0.4618 - accuracy: 0.8821\n",
      "Epoch 14/30\n",
      "20/20 [==============================] - 1s 31ms/step - loss: 0.3609 - accuracy: 0.9184\n",
      "Epoch 15/30\n",
      "20/20 [==============================] - 1s 30ms/step - loss: 0.3381 - accuracy: 0.9192\n",
      "Epoch 16/30\n",
      "20/20 [==============================] - 1s 31ms/step - loss: 0.2416 - accuracy: 0.9588\n",
      "Epoch 17/30\n",
      "20/20 [==============================] - 1s 31ms/step - loss: 0.1723 - accuracy: 0.9717\n",
      "Epoch 18/30\n",
      "20/20 [==============================] - 1s 31ms/step - loss: 0.1394 - accuracy: 0.9733\n",
      "Epoch 19/30\n",
      "20/20 [==============================] - 1s 31ms/step - loss: 0.1772 - accuracy: 0.9572\n",
      "Epoch 20/30\n",
      "20/20 [==============================] - 1s 30ms/step - loss: 0.3120 - accuracy: 0.9394\n",
      "Epoch 21/30\n",
      "20/20 [==============================] - 1s 30ms/step - loss: 0.1559 - accuracy: 0.9758\n",
      "Epoch 22/30\n",
      "20/20 [==============================] - 1s 30ms/step - loss: 0.0881 - accuracy: 0.9887\n",
      "Epoch 23/30\n",
      "20/20 [==============================] - 1s 30ms/step - loss: 0.0511 - accuracy: 0.9960\n",
      "Epoch 24/30\n",
      "20/20 [==============================] - 1s 30ms/step - loss: 0.0392 - accuracy: 0.9984\n",
      "Epoch 25/30\n",
      "20/20 [==============================] - 1s 30ms/step - loss: 0.0805 - accuracy: 0.9830\n",
      "Epoch 26/30\n",
      "20/20 [==============================] - 1s 30ms/step - loss: 0.0590 - accuracy: 0.9927\n",
      "Epoch 27/30\n",
      "20/20 [==============================] - 1s 30ms/step - loss: 0.0354 - accuracy: 0.9968\n",
      "Epoch 28/30\n",
      "20/20 [==============================] - 1s 30ms/step - loss: 0.0255 - accuracy: 0.9976\n",
      "Epoch 29/30\n",
      "20/20 [==============================] - 1s 30ms/step - loss: 0.0175 - accuracy: 1.0000\n",
      "Epoch 30/30\n",
      "20/20 [==============================] - 1s 30ms/step - loss: 0.0154 - accuracy: 0.9992\n",
      "Epoch 1/30\n",
      "20/20 [==============================] - 4s 30ms/step - loss: 2.6218 - accuracy: 0.1284\n",
      "Epoch 2/30\n",
      "20/20 [==============================] - 1s 30ms/step - loss: 2.4117 - accuracy: 0.2326\n",
      "Epoch 3/30\n",
      "20/20 [==============================] - 1s 31ms/step - loss: 2.1320 - accuracy: 0.3271\n",
      "Epoch 4/30\n",
      "20/20 [==============================] - 1s 31ms/step - loss: 1.9640 - accuracy: 0.3013\n",
      "Epoch 5/30\n",
      "20/20 [==============================] - 1s 31ms/step - loss: 1.7876 - accuracy: 0.3764\n",
      "Epoch 6/30\n",
      "20/20 [==============================] - 1s 31ms/step - loss: 1.5339 - accuracy: 0.5048\n",
      "Epoch 7/30\n",
      "20/20 [==============================] - 1s 31ms/step - loss: 1.2890 - accuracy: 0.5711\n",
      "Epoch 8/30\n",
      "20/20 [==============================] - 1s 31ms/step - loss: 1.0746 - accuracy: 0.6478\n",
      "Epoch 9/30\n",
      "20/20 [==============================] - 1s 31ms/step - loss: 0.9090 - accuracy: 0.7383\n",
      "Epoch 10/30\n",
      "20/20 [==============================] - 1s 31ms/step - loss: 0.8870 - accuracy: 0.7294\n",
      "Epoch 11/30\n",
      "20/20 [==============================] - 1s 32ms/step - loss: 0.7308 - accuracy: 0.8263\n",
      "Epoch 12/30\n",
      "20/20 [==============================] - 1s 31ms/step - loss: 0.5911 - accuracy: 0.8651\n",
      "Epoch 13/30\n",
      "20/20 [==============================] - 1s 31ms/step - loss: 0.4236 - accuracy: 0.9136\n",
      "Epoch 14/30\n",
      "20/20 [==============================] - 1s 31ms/step - loss: 0.4608 - accuracy: 0.8901\n",
      "Epoch 15/30\n",
      "20/20 [==============================] - 1s 31ms/step - loss: 0.3917 - accuracy: 0.9111\n",
      "Epoch 16/30\n",
      "20/20 [==============================] - 1s 31ms/step - loss: 0.4447 - accuracy: 0.8885\n",
      "Epoch 17/30\n",
      "20/20 [==============================] - 1s 31ms/step - loss: 0.2472 - accuracy: 0.9709\n",
      "Epoch 18/30\n",
      "20/20 [==============================] - 1s 31ms/step - loss: 0.2272 - accuracy: 0.9572\n",
      "Epoch 19/30\n",
      "20/20 [==============================] - 1s 31ms/step - loss: 0.1612 - accuracy: 0.9838\n",
      "Epoch 20/30\n",
      "20/20 [==============================] - 1s 31ms/step - loss: 0.1289 - accuracy: 0.9830\n",
      "Epoch 21/30\n",
      "20/20 [==============================] - 1s 31ms/step - loss: 0.0836 - accuracy: 0.9903\n",
      "Epoch 22/30\n",
      "20/20 [==============================] - 1s 31ms/step - loss: 0.0952 - accuracy: 0.9855\n",
      "Epoch 23/30\n",
      "20/20 [==============================] - 1s 31ms/step - loss: 0.0594 - accuracy: 0.9935\n",
      "Epoch 24/30\n",
      "20/20 [==============================] - 1s 31ms/step - loss: 0.0438 - accuracy: 0.9960\n",
      "Epoch 25/30\n",
      "20/20 [==============================] - 1s 31ms/step - loss: 0.0372 - accuracy: 0.9976\n",
      "Epoch 26/30\n",
      "20/20 [==============================] - 1s 31ms/step - loss: 0.0378 - accuracy: 0.9943\n",
      "Epoch 27/30\n",
      "20/20 [==============================] - 1s 31ms/step - loss: 0.0527 - accuracy: 0.9887\n",
      "Epoch 28/30\n",
      "20/20 [==============================] - 1s 32ms/step - loss: 0.0523 - accuracy: 0.9935\n",
      "Epoch 29/30\n",
      "20/20 [==============================] - 1s 31ms/step - loss: 0.0349 - accuracy: 0.9960\n",
      "Epoch 30/30\n",
      "20/20 [==============================] - 1s 31ms/step - loss: 0.0311 - accuracy: 0.9976\n",
      "Epoch 1/30\n",
      "20/20 [==============================] - 4s 32ms/step - loss: 2.6193 - accuracy: 0.1373\n",
      "Epoch 2/30\n",
      "20/20 [==============================] - 1s 31ms/step - loss: 2.4509 - accuracy: 0.2270\n",
      "Epoch 3/30\n",
      "20/20 [==============================] - 1s 31ms/step - loss: 2.0747 - accuracy: 0.3231\n",
      "Epoch 4/30\n",
      "20/20 [==============================] - 1s 31ms/step - loss: 1.7217 - accuracy: 0.4855\n",
      "Epoch 5/30\n",
      "20/20 [==============================] - 1s 32ms/step - loss: 1.4983 - accuracy: 0.5186\n",
      "Epoch 6/30\n",
      "20/20 [==============================] - 1s 31ms/step - loss: 1.3256 - accuracy: 0.6462\n",
      "Epoch 7/30\n",
      "20/20 [==============================] - 1s 31ms/step - loss: 1.0608 - accuracy: 0.7254\n",
      "Epoch 8/30\n",
      "20/20 [==============================] - 1s 32ms/step - loss: 1.0156 - accuracy: 0.7326\n",
      "Epoch 9/30\n",
      "20/20 [==============================] - 1s 31ms/step - loss: 0.8255 - accuracy: 0.7771\n",
      "Epoch 10/30\n",
      "20/20 [==============================] - 1s 31ms/step - loss: 0.7588 - accuracy: 0.7795\n",
      "Epoch 11/30\n",
      "20/20 [==============================] - 1s 32ms/step - loss: 0.7319 - accuracy: 0.8223\n",
      "Epoch 12/30\n",
      "20/20 [==============================] - 1s 31ms/step - loss: 0.5297 - accuracy: 0.8805\n",
      "Epoch 13/30\n",
      "20/20 [==============================] - 1s 31ms/step - loss: 0.5261 - accuracy: 0.8401\n",
      "Epoch 14/30\n",
      "20/20 [==============================] - 1s 31ms/step - loss: 0.4190 - accuracy: 0.8982\n",
      "Epoch 15/30\n",
      "20/20 [==============================] - 1s 32ms/step - loss: 0.4011 - accuracy: 0.9103\n",
      "Epoch 16/30\n",
      "20/20 [==============================] - 1s 32ms/step - loss: 0.2899 - accuracy: 0.9354\n",
      "Epoch 17/30\n",
      "20/20 [==============================] - 1s 32ms/step - loss: 0.2291 - accuracy: 0.9669\n",
      "Epoch 18/30\n",
      "20/20 [==============================] - 1s 32ms/step - loss: 0.1771 - accuracy: 0.9717\n",
      "Epoch 19/30\n",
      "20/20 [==============================] - 1s 32ms/step - loss: 0.1433 - accuracy: 0.9750\n",
      "Epoch 20/30\n",
      "20/20 [==============================] - 1s 32ms/step - loss: 0.0983 - accuracy: 0.9863\n",
      "Epoch 21/30\n",
      "20/20 [==============================] - 1s 32ms/step - loss: 0.0954 - accuracy: 0.9863\n",
      "Epoch 22/30\n",
      "20/20 [==============================] - 1s 31ms/step - loss: 0.1040 - accuracy: 0.9822\n",
      "Epoch 23/30\n",
      "20/20 [==============================] - 1s 31ms/step - loss: 0.1573 - accuracy: 0.9620\n",
      "Epoch 24/30\n",
      "20/20 [==============================] - 1s 32ms/step - loss: 0.0854 - accuracy: 0.9838\n",
      "Epoch 25/30\n",
      "20/20 [==============================] - 1s 32ms/step - loss: 0.2096 - accuracy: 0.9354\n",
      "Epoch 26/30\n",
      "20/20 [==============================] - 1s 31ms/step - loss: 0.2359 - accuracy: 0.9281\n",
      "Epoch 27/30\n",
      "20/20 [==============================] - 1s 31ms/step - loss: 0.1078 - accuracy: 0.9879\n",
      "Epoch 28/30\n",
      "20/20 [==============================] - 1s 31ms/step - loss: 0.0980 - accuracy: 0.9830\n",
      "Epoch 29/30\n",
      "20/20 [==============================] - 1s 32ms/step - loss: 0.0689 - accuracy: 0.9952\n",
      "Epoch 30/30\n",
      "20/20 [==============================] - 1s 31ms/step - loss: 0.0519 - accuracy: 0.9968\n",
      "Epoch 1/30\n",
      "20/20 [==============================] - 4s 31ms/step - loss: 2.6195 - accuracy: 0.1397\n",
      "Epoch 2/30\n",
      "20/20 [==============================] - 1s 31ms/step - loss: 2.4423 - accuracy: 0.1995\n",
      "Epoch 3/30\n",
      "20/20 [==============================] - 1s 31ms/step - loss: 2.1353 - accuracy: 0.2561\n",
      "Epoch 4/30\n",
      "20/20 [==============================] - 1s 31ms/step - loss: 1.8215 - accuracy: 0.3570\n",
      "Epoch 5/30\n",
      "20/20 [==============================] - 1s 31ms/step - loss: 1.4871 - accuracy: 0.5000\n",
      "Epoch 6/30\n",
      "20/20 [==============================] - 1s 31ms/step - loss: 1.3325 - accuracy: 0.5630\n",
      "Epoch 7/30\n",
      "20/20 [==============================] - 1s 31ms/step - loss: 1.0776 - accuracy: 0.6987\n",
      "Epoch 8/30\n",
      "20/20 [==============================] - 1s 31ms/step - loss: 0.8338 - accuracy: 0.7916\n",
      "Epoch 9/30\n",
      "20/20 [==============================] - 1s 31ms/step - loss: 0.8702 - accuracy: 0.7488\n",
      "Epoch 10/30\n",
      "20/20 [==============================] - 1s 31ms/step - loss: 0.6541 - accuracy: 0.8158\n",
      "Epoch 11/30\n",
      "20/20 [==============================] - 1s 31ms/step - loss: 0.4505 - accuracy: 0.8926\n",
      "Epoch 12/30\n",
      "20/20 [==============================] - 1s 32ms/step - loss: 0.3142 - accuracy: 0.9362\n",
      "Epoch 13/30\n",
      "20/20 [==============================] - 1s 32ms/step - loss: 0.2333 - accuracy: 0.9540\n",
      "Epoch 14/30\n",
      "20/20 [==============================] - 1s 32ms/step - loss: 0.1977 - accuracy: 0.9661\n",
      "Epoch 15/30\n",
      "20/20 [==============================] - 1s 32ms/step - loss: 0.2735 - accuracy: 0.9208\n",
      "Epoch 16/30\n",
      "20/20 [==============================] - 1s 31ms/step - loss: 0.3019 - accuracy: 0.9354\n",
      "Epoch 17/30\n",
      "20/20 [==============================] - 1s 31ms/step - loss: 0.2594 - accuracy: 0.9475\n",
      "Epoch 18/30\n",
      "20/20 [==============================] - 1s 31ms/step - loss: 0.1757 - accuracy: 0.9750\n",
      "Epoch 19/30\n",
      "20/20 [==============================] - 1s 31ms/step - loss: 0.1252 - accuracy: 0.9782\n",
      "Epoch 20/30\n",
      "20/20 [==============================] - 1s 31ms/step - loss: 0.0944 - accuracy: 0.9887\n",
      "Epoch 21/30\n",
      "20/20 [==============================] - 1s 31ms/step - loss: 0.0762 - accuracy: 0.9935\n",
      "Epoch 22/30\n",
      "20/20 [==============================] - 1s 31ms/step - loss: 0.0514 - accuracy: 0.9960\n",
      "Epoch 23/30\n",
      "20/20 [==============================] - 1s 32ms/step - loss: 0.0416 - accuracy: 0.9960\n",
      "Epoch 24/30\n",
      "20/20 [==============================] - 1s 31ms/step - loss: 0.1693 - accuracy: 0.9540\n",
      "Epoch 25/30\n",
      "20/20 [==============================] - 1s 31ms/step - loss: 0.1402 - accuracy: 0.9661\n",
      "Epoch 26/30\n",
      "20/20 [==============================] - 1s 31ms/step - loss: 0.0745 - accuracy: 0.9822\n",
      "Epoch 27/30\n",
      "20/20 [==============================] - 1s 32ms/step - loss: 0.0599 - accuracy: 0.9895\n",
      "Epoch 28/30\n",
      "20/20 [==============================] - 1s 31ms/step - loss: 0.0496 - accuracy: 0.9927\n",
      "Epoch 29/30\n",
      "20/20 [==============================] - 1s 32ms/step - loss: 0.0324 - accuracy: 0.9984\n",
      "Epoch 30/30\n",
      "20/20 [==============================] - 1s 35ms/step - loss: 0.0255 - accuracy: 0.9984\n",
      "Epoch 1/30\n",
      "20/20 [==============================] - 4s 33ms/step - loss: 2.6179 - accuracy: 0.1244\n",
      "Epoch 2/30\n",
      "20/20 [==============================] - 1s 31ms/step - loss: 2.3865 - accuracy: 0.2084\n",
      "Epoch 3/30\n",
      "20/20 [==============================] - 1s 31ms/step - loss: 2.0686 - accuracy: 0.2609\n",
      "Epoch 4/30\n",
      "20/20 [==============================] - 1s 31ms/step - loss: 1.8476 - accuracy: 0.4111\n",
      "Epoch 5/30\n",
      "20/20 [==============================] - 1s 32ms/step - loss: 1.6451 - accuracy: 0.5008\n",
      "Epoch 6/30\n",
      "20/20 [==============================] - 1s 32ms/step - loss: 1.4049 - accuracy: 0.6099\n",
      "Epoch 7/30\n",
      "20/20 [==============================] - 1s 31ms/step - loss: 1.2755 - accuracy: 0.6002\n",
      "Epoch 8/30\n",
      "20/20 [==============================] - 1s 32ms/step - loss: 1.0783 - accuracy: 0.7246\n",
      "Epoch 9/30\n",
      "20/20 [==============================] - 1s 32ms/step - loss: 0.8509 - accuracy: 0.8053\n",
      "Epoch 10/30\n",
      "20/20 [==============================] - 1s 34ms/step - loss: 0.8017 - accuracy: 0.8029\n",
      "Epoch 11/30\n",
      "20/20 [==============================] - 1s 34ms/step - loss: 0.6833 - accuracy: 0.8522\n",
      "Epoch 12/30\n",
      "20/20 [==============================] - 1s 39ms/step - loss: 0.4577 - accuracy: 0.9111\n",
      "Epoch 13/30\n",
      "20/20 [==============================] - 1s 32ms/step - loss: 0.3412 - accuracy: 0.9346\n",
      "Epoch 14/30\n",
      "20/20 [==============================] - 1s 32ms/step - loss: 0.2856 - accuracy: 0.9289\n",
      "Epoch 15/30\n",
      "20/20 [==============================] - 1s 32ms/step - loss: 0.3489 - accuracy: 0.8958\n",
      "Epoch 16/30\n",
      "20/20 [==============================] - 1s 32ms/step - loss: 0.2586 - accuracy: 0.9532\n",
      "Epoch 17/30\n",
      "20/20 [==============================] - 1s 32ms/step - loss: 0.2068 - accuracy: 0.9661\n",
      "Epoch 18/30\n",
      "20/20 [==============================] - 1s 32ms/step - loss: 0.2718 - accuracy: 0.9418\n",
      "Epoch 19/30\n",
      "20/20 [==============================] - 1s 32ms/step - loss: 0.1768 - accuracy: 0.9637\n",
      "Epoch 20/30\n",
      "20/20 [==============================] - 1s 32ms/step - loss: 0.1174 - accuracy: 0.9847\n",
      "Epoch 21/30\n",
      "20/20 [==============================] - 1s 32ms/step - loss: 0.0952 - accuracy: 0.9838\n",
      "Epoch 22/30\n",
      "20/20 [==============================] - 1s 32ms/step - loss: 0.0835 - accuracy: 0.9919\n",
      "Epoch 23/30\n",
      "20/20 [==============================] - 1s 32ms/step - loss: 0.0502 - accuracy: 0.9935\n",
      "Epoch 24/30\n",
      "20/20 [==============================] - 1s 32ms/step - loss: 0.0373 - accuracy: 0.9960\n",
      "Epoch 25/30\n",
      "20/20 [==============================] - 1s 32ms/step - loss: 0.0932 - accuracy: 0.9790\n",
      "Epoch 26/30\n",
      "20/20 [==============================] - 1s 32ms/step - loss: 0.0626 - accuracy: 0.9855\n",
      "Epoch 27/30\n",
      "20/20 [==============================] - 1s 32ms/step - loss: 0.0604 - accuracy: 0.9903\n",
      "Epoch 28/30\n",
      "20/20 [==============================] - 1s 32ms/step - loss: 0.0651 - accuracy: 0.9879\n",
      "Epoch 29/30\n",
      "20/20 [==============================] - 1s 32ms/step - loss: 0.0348 - accuracy: 0.9935\n",
      "Epoch 30/30\n",
      "20/20 [==============================] - 1s 32ms/step - loss: 0.0354 - accuracy: 0.9952\n",
      "Epoch 1/30\n",
      "20/20 [==============================] - 4s 31ms/step - loss: 2.6054 - accuracy: 0.1477\n",
      "Epoch 2/30\n",
      "20/20 [==============================] - 1s 30ms/step - loss: 2.4395 - accuracy: 0.2365\n",
      "Epoch 3/30\n",
      "20/20 [==============================] - 1s 30ms/step - loss: 2.2170 - accuracy: 0.2817\n",
      "Epoch 4/30\n",
      "20/20 [==============================] - 1s 30ms/step - loss: 1.9244 - accuracy: 0.3923\n",
      "Epoch 5/30\n",
      "20/20 [==============================] - 1s 30ms/step - loss: 1.6774 - accuracy: 0.4625\n",
      "Epoch 6/30\n",
      "20/20 [==============================] - 1s 30ms/step - loss: 1.5097 - accuracy: 0.5343\n",
      "Epoch 7/30\n",
      "20/20 [==============================] - 1s 30ms/step - loss: 1.2143 - accuracy: 0.6425\n",
      "Epoch 8/30\n",
      "20/20 [==============================] - 1s 30ms/step - loss: 1.1367 - accuracy: 0.6473\n",
      "Epoch 9/30\n",
      "20/20 [==============================] - 1s 30ms/step - loss: 0.9934 - accuracy: 0.7345\n",
      "Epoch 10/30\n",
      "20/20 [==============================] - 1s 30ms/step - loss: 0.7424 - accuracy: 0.8144\n",
      "Epoch 11/30\n",
      "20/20 [==============================] - 1s 30ms/step - loss: 0.5555 - accuracy: 0.8797\n",
      "Epoch 12/30\n",
      "20/20 [==============================] - 1s 31ms/step - loss: 0.4024 - accuracy: 0.8846\n",
      "Epoch 13/30\n",
      "20/20 [==============================] - 1s 31ms/step - loss: 0.3764 - accuracy: 0.8975\n",
      "Epoch 14/30\n",
      "20/20 [==============================] - 1s 31ms/step - loss: 0.3727 - accuracy: 0.9112\n",
      "Epoch 15/30\n",
      "20/20 [==============================] - 1s 30ms/step - loss: 0.4266 - accuracy: 0.9128\n",
      "Epoch 16/30\n",
      "20/20 [==============================] - 1s 30ms/step - loss: 0.3034 - accuracy: 0.9274\n",
      "Epoch 17/30\n",
      "20/20 [==============================] - 1s 31ms/step - loss: 0.3052 - accuracy: 0.9217\n",
      "Epoch 18/30\n",
      "20/20 [==============================] - 1s 31ms/step - loss: 0.1916 - accuracy: 0.9500\n",
      "Epoch 19/30\n",
      "20/20 [==============================] - 1s 31ms/step - loss: 0.1750 - accuracy: 0.9540\n",
      "Epoch 20/30\n",
      "20/20 [==============================] - 1s 30ms/step - loss: 0.1703 - accuracy: 0.9556\n",
      "Epoch 21/30\n",
      "20/20 [==============================] - 1s 30ms/step - loss: 0.1135 - accuracy: 0.9718\n",
      "Epoch 22/30\n",
      "20/20 [==============================] - 1s 31ms/step - loss: 0.0840 - accuracy: 0.9863\n",
      "Epoch 23/30\n",
      "20/20 [==============================] - 1s 31ms/step - loss: 0.0732 - accuracy: 0.9814\n",
      "Epoch 24/30\n",
      "20/20 [==============================] - 1s 31ms/step - loss: 0.0782 - accuracy: 0.9806\n",
      "Epoch 25/30\n",
      "20/20 [==============================] - 1s 31ms/step - loss: 0.0484 - accuracy: 0.9911\n",
      "Epoch 26/30\n",
      "20/20 [==============================] - 1s 31ms/step - loss: 0.0437 - accuracy: 0.9903\n",
      "Epoch 27/30\n",
      "20/20 [==============================] - 1s 31ms/step - loss: 0.0452 - accuracy: 0.9895\n",
      "Epoch 28/30\n",
      "20/20 [==============================] - 1s 30ms/step - loss: 0.1491 - accuracy: 0.9588\n",
      "Epoch 29/30\n",
      "20/20 [==============================] - 1s 31ms/step - loss: 0.0588 - accuracy: 0.9863\n",
      "Epoch 30/30\n",
      "20/20 [==============================] - 1s 31ms/step - loss: 0.0411 - accuracy: 0.9903\n",
      "Epoch 1/30\n",
      "20/20 [==============================] - 4s 32ms/step - loss: 2.6162 - accuracy: 0.1421\n",
      "Epoch 2/30\n",
      "20/20 [==============================] - 1s 30ms/step - loss: 2.4372 - accuracy: 0.1897\n",
      "Epoch 3/30\n",
      "20/20 [==============================] - 1s 30ms/step - loss: 2.0577 - accuracy: 0.2857\n",
      "Epoch 4/30\n",
      "20/20 [==============================] - 1s 30ms/step - loss: 1.7203 - accuracy: 0.4132\n",
      "Epoch 5/30\n",
      "20/20 [==============================] - 1s 31ms/step - loss: 1.5696 - accuracy: 0.4778\n",
      "Epoch 6/30\n",
      "20/20 [==============================] - 1s 31ms/step - loss: 1.3559 - accuracy: 0.6094\n",
      "Epoch 7/30\n",
      "20/20 [==============================] - 1s 31ms/step - loss: 1.2186 - accuracy: 0.6295\n",
      "Epoch 8/30\n",
      "20/20 [==============================] - 1s 31ms/step - loss: 0.9989 - accuracy: 0.7304\n",
      "Epoch 9/30\n",
      "20/20 [==============================] - 1s 31ms/step - loss: 0.8458 - accuracy: 0.7708\n",
      "Epoch 10/30\n",
      "20/20 [==============================] - 1s 31ms/step - loss: 0.7669 - accuracy: 0.7950\n",
      "Epoch 11/30\n",
      "20/20 [==============================] - 1s 31ms/step - loss: 0.6855 - accuracy: 0.7950\n",
      "Epoch 12/30\n",
      "20/20 [==============================] - 1s 31ms/step - loss: 0.5183 - accuracy: 0.8749\n",
      "Epoch 13/30\n",
      "20/20 [==============================] - 1s 31ms/step - loss: 0.5516 - accuracy: 0.8555\n",
      "Epoch 14/30\n",
      "20/20 [==============================] - 1s 31ms/step - loss: 0.3678 - accuracy: 0.9322\n",
      "Epoch 15/30\n",
      "20/20 [==============================] - 1s 31ms/step - loss: 0.2482 - accuracy: 0.9572\n",
      "Epoch 16/30\n",
      "20/20 [==============================] - 1s 31ms/step - loss: 0.1981 - accuracy: 0.9645\n",
      "Epoch 17/30\n",
      "20/20 [==============================] - 1s 31ms/step - loss: 0.2413 - accuracy: 0.9524\n",
      "Epoch 18/30\n",
      "20/20 [==============================] - 1s 31ms/step - loss: 0.1607 - accuracy: 0.9742\n",
      "Epoch 19/30\n",
      "20/20 [==============================] - 1s 31ms/step - loss: 0.1191 - accuracy: 0.9839\n",
      "Epoch 20/30\n",
      "20/20 [==============================] - 1s 31ms/step - loss: 0.2008 - accuracy: 0.9548\n",
      "Epoch 21/30\n",
      "20/20 [==============================] - 1s 31ms/step - loss: 0.1243 - accuracy: 0.9806\n",
      "Epoch 22/30\n",
      "20/20 [==============================] - 1s 31ms/step - loss: 0.1546 - accuracy: 0.9693\n",
      "Epoch 23/30\n",
      "20/20 [==============================] - 1s 31ms/step - loss: 0.0659 - accuracy: 0.9944\n",
      "Epoch 24/30\n",
      "20/20 [==============================] - 1s 31ms/step - loss: 0.0454 - accuracy: 0.9976\n",
      "Epoch 25/30\n",
      "20/20 [==============================] - 1s 31ms/step - loss: 0.0354 - accuracy: 0.9952\n",
      "Epoch 26/30\n",
      "20/20 [==============================] - 1s 31ms/step - loss: 0.0400 - accuracy: 0.9944\n",
      "Epoch 27/30\n",
      "20/20 [==============================] - 1s 31ms/step - loss: 0.0357 - accuracy: 0.9944\n",
      "Epoch 28/30\n",
      "20/20 [==============================] - 1s 31ms/step - loss: 0.0709 - accuracy: 0.9839\n",
      "Epoch 29/30\n",
      "20/20 [==============================] - 1s 31ms/step - loss: 0.0441 - accuracy: 0.9960\n",
      "Epoch 30/30\n",
      "20/20 [==============================] - 1s 31ms/step - loss: 0.0248 - accuracy: 0.9992\n",
      "Epoch 1/30\n",
      "20/20 [==============================] - 4s 30ms/step - loss: 2.6189 - accuracy: 0.1445\n",
      "Epoch 2/30\n",
      "20/20 [==============================] - 1s 30ms/step - loss: 2.4246 - accuracy: 0.2567\n",
      "Epoch 3/30\n",
      "20/20 [==============================] - 1s 31ms/step - loss: 2.1156 - accuracy: 0.2970\n",
      "Epoch 4/30\n",
      "20/20 [==============================] - 1s 31ms/step - loss: 1.8212 - accuracy: 0.4576\n",
      "Epoch 5/30\n",
      "20/20 [==============================] - 1s 31ms/step - loss: 1.7609 - accuracy: 0.5198\n",
      "Epoch 6/30\n",
      "20/20 [==============================] - 1s 31ms/step - loss: 1.3523 - accuracy: 0.6578\n",
      "Epoch 7/30\n",
      "20/20 [==============================] - 1s 31ms/step - loss: 1.1906 - accuracy: 0.6949\n",
      "Epoch 8/30\n",
      "20/20 [==============================] - 1s 31ms/step - loss: 0.8333 - accuracy: 0.7861\n",
      "Epoch 9/30\n",
      "20/20 [==============================] - 1s 31ms/step - loss: 0.6072 - accuracy: 0.8571\n",
      "Epoch 10/30\n",
      "20/20 [==============================] - 1s 31ms/step - loss: 0.5178 - accuracy: 0.8652\n",
      "Epoch 11/30\n",
      "20/20 [==============================] - 1s 31ms/step - loss: 0.4870 - accuracy: 0.8757\n",
      "Epoch 12/30\n",
      "20/20 [==============================] - 1s 31ms/step - loss: 0.5148 - accuracy: 0.8555\n",
      "Epoch 13/30\n",
      "20/20 [==============================] - 1s 31ms/step - loss: 0.4913 - accuracy: 0.8676\n",
      "Epoch 14/30\n",
      "20/20 [==============================] - 1s 31ms/step - loss: 0.3293 - accuracy: 0.9322\n",
      "Epoch 15/30\n",
      "20/20 [==============================] - 1s 31ms/step - loss: 0.4296 - accuracy: 0.8854\n",
      "Epoch 16/30\n",
      "20/20 [==============================] - 1s 31ms/step - loss: 0.2801 - accuracy: 0.9492\n",
      "Epoch 17/30\n",
      "20/20 [==============================] - 1s 31ms/step - loss: 0.1636 - accuracy: 0.9766\n",
      "Epoch 18/30\n",
      "20/20 [==============================] - 1s 31ms/step - loss: 0.1607 - accuracy: 0.9653\n",
      "Epoch 19/30\n",
      "20/20 [==============================] - 1s 30ms/step - loss: 0.1356 - accuracy: 0.9726\n",
      "Epoch 20/30\n",
      "20/20 [==============================] - 1s 31ms/step - loss: 0.0967 - accuracy: 0.9863\n",
      "Epoch 21/30\n",
      "20/20 [==============================] - 1s 31ms/step - loss: 0.0576 - accuracy: 0.9952\n",
      "Epoch 22/30\n",
      "20/20 [==============================] - 1s 31ms/step - loss: 0.0470 - accuracy: 0.9960\n",
      "Epoch 23/30\n",
      "20/20 [==============================] - 1s 31ms/step - loss: 0.0447 - accuracy: 0.9935\n",
      "Epoch 24/30\n",
      "20/20 [==============================] - 1s 31ms/step - loss: 0.0330 - accuracy: 0.9976\n",
      "Epoch 25/30\n",
      "20/20 [==============================] - 1s 31ms/step - loss: 0.0294 - accuracy: 0.9968\n",
      "Epoch 26/30\n",
      "20/20 [==============================] - 1s 31ms/step - loss: 0.0379 - accuracy: 0.9944\n",
      "Epoch 27/30\n",
      "20/20 [==============================] - 1s 31ms/step - loss: 0.0353 - accuracy: 0.9968\n",
      "Epoch 28/30\n",
      "20/20 [==============================] - 1s 31ms/step - loss: 0.0622 - accuracy: 0.9839\n",
      "Epoch 29/30\n",
      "20/20 [==============================] - 1s 31ms/step - loss: 0.1272 - accuracy: 0.9645\n",
      "Epoch 30/30\n",
      "20/20 [==============================] - 1s 31ms/step - loss: 0.0583 - accuracy: 0.9952\n",
      "Epoch 1/30\n",
      "20/20 [==============================] - 4s 31ms/step - loss: 2.6166 - accuracy: 0.1122\n",
      "Epoch 2/30\n",
      "20/20 [==============================] - 1s 30ms/step - loss: 2.4900 - accuracy: 0.1687\n",
      "Epoch 3/30\n",
      "20/20 [==============================] - 1s 30ms/step - loss: 2.1094 - accuracy: 0.2776\n",
      "Epoch 4/30\n",
      "20/20 [==============================] - 1s 30ms/step - loss: 1.7380 - accuracy: 0.4391\n",
      "Epoch 5/30\n",
      "20/20 [==============================] - 1s 31ms/step - loss: 1.3860 - accuracy: 0.5973\n",
      "Epoch 6/30\n",
      "20/20 [==============================] - 1s 31ms/step - loss: 1.0352 - accuracy: 0.6917\n",
      "Epoch 7/30\n",
      "20/20 [==============================] - 1s 31ms/step - loss: 0.8975 - accuracy: 0.7450\n",
      "Epoch 8/30\n",
      "20/20 [==============================] - 1s 31ms/step - loss: 0.7437 - accuracy: 0.7740\n",
      "Epoch 9/30\n",
      "20/20 [==============================] - 1s 31ms/step - loss: 0.5585 - accuracy: 0.8515\n",
      "Epoch 10/30\n",
      "20/20 [==============================] - 1s 31ms/step - loss: 0.4593 - accuracy: 0.8668\n",
      "Epoch 11/30\n",
      "20/20 [==============================] - 1s 31ms/step - loss: 0.3590 - accuracy: 0.9015\n",
      "Epoch 12/30\n",
      "20/20 [==============================] - 1s 31ms/step - loss: 0.3308 - accuracy: 0.8991\n",
      "Epoch 13/30\n",
      "20/20 [==============================] - 1s 31ms/step - loss: 0.3633 - accuracy: 0.9080\n",
      "Epoch 14/30\n",
      "20/20 [==============================] - 1s 31ms/step - loss: 0.2190 - accuracy: 0.9637\n",
      "Epoch 15/30\n",
      "20/20 [==============================] - 1s 31ms/step - loss: 0.1359 - accuracy: 0.9782\n",
      "Epoch 16/30\n",
      "20/20 [==============================] - 1s 31ms/step - loss: 0.1033 - accuracy: 0.9831\n",
      "Epoch 17/30\n",
      "20/20 [==============================] - 1s 31ms/step - loss: 0.0929 - accuracy: 0.9774\n",
      "Epoch 18/30\n",
      "20/20 [==============================] - 1s 31ms/step - loss: 0.1192 - accuracy: 0.9774\n",
      "Epoch 19/30\n",
      "20/20 [==============================] - 1s 31ms/step - loss: 0.0666 - accuracy: 0.9952\n",
      "Epoch 20/30\n",
      "20/20 [==============================] - 1s 31ms/step - loss: 0.0401 - accuracy: 0.9976\n",
      "Epoch 21/30\n",
      "20/20 [==============================] - 1s 31ms/step - loss: 0.0370 - accuracy: 0.9968\n",
      "Epoch 22/30\n",
      "20/20 [==============================] - 1s 31ms/step - loss: 0.0340 - accuracy: 0.9952\n",
      "Epoch 23/30\n",
      "20/20 [==============================] - 1s 31ms/step - loss: 0.0400 - accuracy: 0.9968\n",
      "Epoch 24/30\n",
      "20/20 [==============================] - 1s 31ms/step - loss: 0.0344 - accuracy: 0.9968\n",
      "Epoch 25/30\n",
      "20/20 [==============================] - 1s 31ms/step - loss: 0.0382 - accuracy: 0.9944\n",
      "Epoch 26/30\n",
      "20/20 [==============================] - 1s 31ms/step - loss: 0.1302 - accuracy: 0.9677\n",
      "Epoch 27/30\n",
      "20/20 [==============================] - 1s 31ms/step - loss: 0.0815 - accuracy: 0.9847\n",
      "Epoch 28/30\n",
      "20/20 [==============================] - 1s 31ms/step - loss: 0.0457 - accuracy: 0.9944\n",
      "Epoch 29/30\n",
      "20/20 [==============================] - 1s 31ms/step - loss: 0.0287 - accuracy: 0.9976\n",
      "Epoch 30/30\n",
      "20/20 [==============================] - 1s 31ms/step - loss: 0.0202 - accuracy: 0.9992\n"
     ]
    },
    {
     "name": "stderr",
     "output_type": "stream",
     "text": [
      "[Parallel(n_jobs=1)]: Done  10 out of  10 | elapsed:  4.0min finished\n"
     ]
    }
   ],
   "source": [
    "from sklearn.model_selection import StratifiedKFold\n",
    "skf = StratifiedKFold(n_splits=10)\n",
    "scores4 = cross_val_score(rnn, X, y, cv=skf, error_score='raise', verbose=True)"
   ]
  },
  {
   "cell_type": "code",
   "execution_count": null,
   "metadata": {
    "colab": {
     "base_uri": "https://localhost:8080/"
    },
    "executionInfo": {
     "elapsed": 8,
     "status": "ok",
     "timestamp": 1657439859918,
     "user": {
      "displayName": "Riccardo Bova",
      "userId": "16906742759511411874"
     },
     "user_tz": -120
    },
    "id": "0FkT2oOolbdz",
    "outputId": "c6fbc477-b3e1-41c3-d77a-67db2045193f"
   },
   "outputs": [
    {
     "data": {
      "text/plain": [
       "array([0.79710145, 0.81884058, 0.81884058, 0.76086957, 0.76086957,\n",
       "       0.84057971, 0.77372263, 0.72262774, 0.76642336, 0.67153285])"
      ]
     },
     "execution_count": 39,
     "metadata": {},
     "output_type": "execute_result"
    }
   ],
   "source": [
    "scores4"
   ]
  },
  {
   "cell_type": "code",
   "execution_count": null,
   "metadata": {
    "colab": {
     "base_uri": "https://localhost:8080/"
    },
    "executionInfo": {
     "elapsed": 7,
     "status": "ok",
     "timestamp": 1657439859919,
     "user": {
      "displayName": "Riccardo Bova",
      "userId": "16906742759511411874"
     },
     "user_tz": -120
    },
    "id": "kxSvIMCplvtK",
    "outputId": "65a390a0-a58d-487b-cc9d-5bb177658072"
   },
   "outputs": [
    {
     "data": {
      "text/plain": [
       "0.7731408018618428"
      ]
     },
     "execution_count": 40,
     "metadata": {},
     "output_type": "execute_result"
    }
   ],
   "source": [
    "np.mean(scores4)"
   ]
  },
  {
   "cell_type": "code",
   "execution_count": null,
   "metadata": {
    "colab": {
     "base_uri": "https://localhost:8080/"
    },
    "executionInfo": {
     "elapsed": 13882,
     "status": "ok",
     "timestamp": 1657440018307,
     "user": {
      "displayName": "Riccardo Bova",
      "userId": "16906742759511411874"
     },
     "user_tz": -120
    },
    "id": "laPJHNUHoWG2",
    "outputId": "cf927615-97f1-4740-c180-6669cf509653"
   },
   "outputs": [
    {
     "name": "stderr",
     "output_type": "stream",
     "text": [
      "WARNING:absl:Found untraced functions such as lstm_cell_98_layer_call_fn, lstm_cell_98_layer_call_and_return_conditional_losses, lstm_cell_99_layer_call_fn, lstm_cell_99_layer_call_and_return_conditional_losses while saving (showing 4 of 4). These functions will not be directly callable after loading.\n"
     ]
    },
    {
     "name": "stdout",
     "output_type": "stream",
     "text": [
      "INFO:tensorflow:Assets written to: /content/drive/MyDrive/ML/testi/modelli/assets\n"
     ]
    },
    {
     "name": "stderr",
     "output_type": "stream",
     "text": [
      "INFO:tensorflow:Assets written to: /content/drive/MyDrive/ML/testi/modelli/assets\n",
      "WARNING:absl:<keras.layers.recurrent.LSTMCell object at 0x7fa6774e0510> has the same name 'LSTMCell' as a built-in Keras object. Consider renaming <class 'keras.layers.recurrent.LSTMCell'> to avoid naming conflicts when loading with `tf.keras.models.load_model`. If renaming is not possible, pass the object in the `custom_objects` parameter of the load function.\n",
      "WARNING:absl:<keras.layers.recurrent.LSTMCell object at 0x7fa6774b5090> has the same name 'LSTMCell' as a built-in Keras object. Consider renaming <class 'keras.layers.recurrent.LSTMCell'> to avoid naming conflicts when loading with `tf.keras.models.load_model`. If renaming is not possible, pass the object in the `custom_objects` parameter of the load function.\n"
     ]
    }
   ],
   "source": [
    "model.save(modelli)"
   ]
  },
  {
   "cell_type": "code",
   "execution_count": null,
   "metadata": {
    "id": "1yoIPTMDJI4j"
   },
   "outputs": [],
   "source": [
    "model2 = keras.models.load_model(modelli)"
   ]
  },
  {
   "cell_type": "code",
   "execution_count": 46,
   "metadata": {
    "executionInfo": {
     "elapsed": 25485,
     "status": "ok",
     "timestamp": 1657726788771,
     "user": {
      "displayName": "Riccardo Bova",
      "userId": "16906742759511411874"
     },
     "user_tz": -120
    },
    "id": "yUFTqGJWFPBz"
   },
   "outputs": [],
   "source": [
    "pipeline_ann = make_pipeline(\n",
    "    Tokenizer(),\n",
    "    NonWordsRemover(),\n",
    "    Lemmatizer(),\n",
    "    NumberRemover(),\n",
    "    ShortWordRemover(minimum_length=2),\n",
    "    Strlists2Documents(),\n",
    "    CountVectorizer(max_features=5000),\n",
    "    TfidfTransformer()\n",
    ")\n",
    "X_ann = pipeline_ann.fit_transform(X)"
   ]
  },
  {
   "cell_type": "code",
   "execution_count": 47,
   "metadata": {
    "executionInfo": {
     "elapsed": 22,
     "status": "ok",
     "timestamp": 1657726788772,
     "user": {
      "displayName": "Riccardo Bova",
      "userId": "16906742759511411874"
     },
     "user_tz": -120
    },
    "id": "p507VwZHHKZr"
   },
   "outputs": [],
   "source": [
    "X_ann = X_ann.toarray()"
   ]
  },
  {
   "cell_type": "code",
   "execution_count": 48,
   "metadata": {
    "colab": {
     "base_uri": "https://localhost:8080/"
    },
    "executionInfo": {
     "elapsed": 12,
     "status": "ok",
     "timestamp": 1657726788772,
     "user": {
      "displayName": "Riccardo Bova",
      "userId": "16906742759511411874"
     },
     "user_tz": -120
    },
    "id": "1q4638_33-8m",
    "outputId": "c1830893-8fd2-439c-8d6d-c2a730969038"
   },
   "outputs": [
    {
     "name": "stdout",
     "output_type": "stream",
     "text": [
      "Model: \"sequential_26\"\n",
      "_________________________________________________________________\n",
      " Layer (type)                Output Shape              Param #   \n",
      "=================================================================\n",
      " dense_107 (Dense)           (None, 125)               625125    \n",
      "                                                                 \n",
      " dense_108 (Dense)           (None, 60)                7560      \n",
      "                                                                 \n",
      " dense_109 (Dense)           (None, 35)                2135      \n",
      "                                                                 \n",
      " dense_110 (Dense)           (None, 14)                504       \n",
      "                                                                 \n",
      "=================================================================\n",
      "Total params: 635,324\n",
      "Trainable params: 635,324\n",
      "Non-trainable params: 0\n",
      "_________________________________________________________________\n",
      "None\n"
     ]
    }
   ],
   "source": [
    "ann = Sequential()\n",
    "ann.add(tf.keras.Input(shape=(5000,)))\n",
    "ann.add(tf.keras.layers.Dense(125, activation='relu'))\n",
    "ann.add(tf.keras.layers.Dense(60, activation='relu'))\n",
    "ann.add(tf.keras.layers.Dense(35, activation='relu'))\n",
    "ann.add(tf.keras.layers.Dense(14, activation='softmax'))\n",
    "ann.compile(loss='sparse_categorical_crossentropy', optimizer='adam', metrics=['accuracy'])\n",
    "print(ann.summary())"
   ]
  },
  {
   "cell_type": "code",
   "execution_count": 49,
   "metadata": {
    "colab": {
     "base_uri": "https://localhost:8080/"
    },
    "executionInfo": {
     "elapsed": 1037,
     "status": "ok",
     "timestamp": 1657726789802,
     "user": {
      "displayName": "Riccardo Bova",
      "userId": "16906742759511411874"
     },
     "user_tz": -120
    },
    "id": "N5HZ3agbF8qN",
    "outputId": "907dce70-7fa9-42c5-c53f-b7852051107c"
   },
   "outputs": [
    {
     "name": "stdout",
     "output_type": "stream",
     "text": [
      "Epoch 1/10\n",
      "22/22 [==============================] - 0s 3ms/step - loss: 2.5659 - accuracy: 0.1126\n",
      "Epoch 2/10\n",
      "22/22 [==============================] - 0s 3ms/step - loss: 2.1225 - accuracy: 0.3808\n",
      "Epoch 3/10\n",
      "22/22 [==============================] - 0s 3ms/step - loss: 1.3386 - accuracy: 0.8001\n",
      "Epoch 4/10\n",
      "22/22 [==============================] - 0s 3ms/step - loss: 0.5295 - accuracy: 0.9782\n",
      "Epoch 5/10\n",
      "22/22 [==============================] - 0s 3ms/step - loss: 0.1685 - accuracy: 0.9935\n",
      "Epoch 6/10\n",
      "22/22 [==============================] - 0s 3ms/step - loss: 0.0689 - accuracy: 0.9978\n",
      "Epoch 7/10\n",
      "22/22 [==============================] - 0s 3ms/step - loss: 0.0385 - accuracy: 0.9985\n",
      "Epoch 8/10\n",
      "22/22 [==============================] - 0s 3ms/step - loss: 0.0259 - accuracy: 0.9993\n",
      "Epoch 9/10\n",
      "22/22 [==============================] - 0s 3ms/step - loss: 0.0190 - accuracy: 0.9993\n",
      "Epoch 10/10\n",
      "22/22 [==============================] - 0s 3ms/step - loss: 0.0149 - accuracy: 0.9993\n"
     ]
    },
    {
     "data": {
      "text/plain": [
       "<keras.callbacks.History at 0x7f5b00254a10>"
      ]
     },
     "execution_count": 49,
     "metadata": {},
     "output_type": "execute_result"
    }
   ],
   "source": [
    "ann.fit(X_ann,y, epochs=10, batch_size=64)"
   ]
  },
  {
   "cell_type": "code",
   "execution_count": 50,
   "metadata": {
    "executionInfo": {
     "elapsed": 336,
     "status": "ok",
     "timestamp": 1657726829279,
     "user": {
      "displayName": "Riccardo Bova",
      "userId": "16906742759511411874"
     },
     "user_tz": -120
    },
    "id": "gZ253g9BHavi"
   },
   "outputs": [],
   "source": [
    "from xlrd.biffh import XL_ARRAY\n",
    "class ANN(BaseEstimator, ClassifierMixin):\n",
    "    def __init__(self):\n",
    "        ann = Sequential()\n",
    "        ann.add(tf.keras.Input(shape=(5000,)))\n",
    "        ann.add(tf.keras.layers.Dense(125, activation='relu'))\n",
    "        ann.add(tf.keras.layers.Dense(60, activation='relu'))\n",
    "        ann.add(tf.keras.layers.Dense(35, activation='relu'))\n",
    "        ann.add(tf.keras.layers.Dense(14, activation='softmax'))\n",
    "        ann.compile(loss='sparse_categorical_crossentropy', optimizer='adam', metrics=['accuracy'])\n",
    "        self.modello = ann\n",
    "        pipeline_ann = make_pipeline(\n",
    "          Tokenizer(),\n",
    "          NonWordsRemover(),\n",
    "          Lemmatizer(),\n",
    "          NumberRemover(),\n",
    "          ShortWordRemover(minimum_length=2),\n",
    "          Strlists2Documents(),\n",
    "          CountVectorizer(max_features=5000),\n",
    "          TfidfTransformer()\n",
    "        )\n",
    "        self.pipeline_ann = pipeline_ann\n",
    "\n",
    "    def fit(self, X, y):\n",
    "        \n",
    "        X_ = self.pipeline_ann.fit_transform(X).toarray()\n",
    "        self.fitted = True\n",
    "        batch_size = 64\n",
    "        epochs = 10\n",
    "        # Check that X and y have correct shape\n",
    "        #X, y = check_X_y(X, y)\n",
    "        # Store the classes seen during fit\n",
    "        self.classes_ = unique_labels(y)\n",
    "        self.y_ = y\n",
    "        # Return the classifier\n",
    "        self.modello.fit(X_, y,  epochs=epochs, batch_size=batch_size)\n",
    "        return self\n",
    "\n",
    "    def predict(self, X):\n",
    "        # Check if fit has been called\n",
    "        check_is_fitted(self)\n",
    "\n",
    "        # Input validation\n",
    "        #X = check_array(X)\n",
    "\n",
    "        #closest = np.argmin(euclidean_distances(X, self.X_), axis=1)\n",
    "        #return self.y_[closest]model.predict_classes(Xnew)\n",
    "        X_ = self.pipeline_ann.transform(X).toarray()\n",
    "        return np.argmax(self.modello.predict(X_), axis = -1)"
   ]
  },
  {
   "cell_type": "code",
   "execution_count": 51,
   "metadata": {
    "colab": {
     "base_uri": "https://localhost:8080/"
    },
    "executionInfo": {
     "elapsed": 268013,
     "status": "ok",
     "timestamp": 1657727097651,
     "user": {
      "displayName": "Riccardo Bova",
      "userId": "16906742759511411874"
     },
     "user_tz": -120
    },
    "id": "v21K8fwmJ_OI",
    "outputId": "da7738d9-0287-40b5-b60c-69511e92680d"
   },
   "outputs": [
    {
     "name": "stderr",
     "output_type": "stream",
     "text": [
      "[Parallel(n_jobs=1)]: Using backend SequentialBackend with 1 concurrent workers.\n"
     ]
    },
    {
     "name": "stdout",
     "output_type": "stream",
     "text": [
      "Epoch 1/10\n",
      "20/20 [==============================] - 0s 3ms/step - loss: 2.5955 - accuracy: 0.2544\n",
      "Epoch 2/10\n",
      "20/20 [==============================] - 0s 3ms/step - loss: 2.2297 - accuracy: 0.5533\n",
      "Epoch 3/10\n",
      "20/20 [==============================] - 0s 3ms/step - loss: 1.4779 - accuracy: 0.7375\n",
      "Epoch 4/10\n",
      "20/20 [==============================] - 0s 3ms/step - loss: 0.7038 - accuracy: 0.9475\n",
      "Epoch 5/10\n",
      "20/20 [==============================] - 0s 3ms/step - loss: 0.2764 - accuracy: 0.9911\n",
      "Epoch 6/10\n",
      "20/20 [==============================] - 0s 3ms/step - loss: 0.1152 - accuracy: 0.9976\n",
      "Epoch 7/10\n",
      "20/20 [==============================] - 0s 3ms/step - loss: 0.0596 - accuracy: 0.9976\n",
      "Epoch 8/10\n",
      "20/20 [==============================] - 0s 3ms/step - loss: 0.0378 - accuracy: 0.9984\n",
      "Epoch 9/10\n",
      "20/20 [==============================] - 0s 3ms/step - loss: 0.0265 - accuracy: 0.9984\n",
      "Epoch 10/10\n",
      "20/20 [==============================] - 0s 3ms/step - loss: 0.0203 - accuracy: 0.9984\n",
      "Epoch 1/10\n",
      "20/20 [==============================] - 0s 3ms/step - loss: 2.6022 - accuracy: 0.2609\n",
      "Epoch 2/10\n",
      "20/20 [==============================] - 0s 3ms/step - loss: 2.3013 - accuracy: 0.5137\n",
      "Epoch 3/10\n",
      "20/20 [==============================] - 0s 3ms/step - loss: 1.5994 - accuracy: 0.7690\n",
      "Epoch 4/10\n",
      "20/20 [==============================] - 0s 3ms/step - loss: 0.8000 - accuracy: 0.9095\n",
      "Epoch 5/10\n",
      "20/20 [==============================] - 0s 3ms/step - loss: 0.3018 - accuracy: 0.9847\n",
      "Epoch 6/10\n",
      "20/20 [==============================] - 0s 3ms/step - loss: 0.1136 - accuracy: 0.9992\n",
      "Epoch 7/10\n",
      "20/20 [==============================] - 0s 3ms/step - loss: 0.0539 - accuracy: 0.9992\n",
      "Epoch 8/10\n",
      "20/20 [==============================] - 0s 3ms/step - loss: 0.0323 - accuracy: 0.9992\n",
      "Epoch 9/10\n",
      "20/20 [==============================] - 0s 3ms/step - loss: 0.0220 - accuracy: 0.9992\n",
      "Epoch 10/10\n",
      "20/20 [==============================] - 0s 3ms/step - loss: 0.0167 - accuracy: 0.9992\n",
      "Epoch 1/10\n",
      "20/20 [==============================] - 0s 3ms/step - loss: 2.5976 - accuracy: 0.2609\n",
      "Epoch 2/10\n",
      "20/20 [==============================] - 0s 3ms/step - loss: 2.2618 - accuracy: 0.6228\n",
      "Epoch 3/10\n",
      "20/20 [==============================] - 0s 3ms/step - loss: 1.5320 - accuracy: 0.7997\n",
      "Epoch 4/10\n",
      "20/20 [==============================] - 0s 3ms/step - loss: 0.7381 - accuracy: 0.9451\n",
      "Epoch 5/10\n",
      "20/20 [==============================] - 0s 3ms/step - loss: 0.2746 - accuracy: 0.9879\n",
      "Epoch 6/10\n",
      "20/20 [==============================] - 0s 3ms/step - loss: 0.1148 - accuracy: 0.9976\n",
      "Epoch 7/10\n",
      "20/20 [==============================] - 0s 3ms/step - loss: 0.0591 - accuracy: 0.9984\n",
      "Epoch 8/10\n",
      "20/20 [==============================] - 0s 3ms/step - loss: 0.0374 - accuracy: 0.9984\n",
      "Epoch 9/10\n",
      "20/20 [==============================] - 0s 3ms/step - loss: 0.0266 - accuracy: 0.9984\n",
      "Epoch 10/10\n",
      "20/20 [==============================] - 0s 3ms/step - loss: 0.0204 - accuracy: 0.9984\n",
      "Epoch 1/10\n",
      "20/20 [==============================] - 0s 3ms/step - loss: 2.5906 - accuracy: 0.1599\n",
      "Epoch 2/10\n",
      "20/20 [==============================] - 0s 3ms/step - loss: 2.2667 - accuracy: 0.3901\n",
      "Epoch 3/10\n",
      "20/20 [==============================] - 0s 3ms/step - loss: 1.5790 - accuracy: 0.7512\n",
      "Epoch 4/10\n",
      "20/20 [==============================] - 0s 3ms/step - loss: 0.7710 - accuracy: 0.9523\n",
      "Epoch 5/10\n",
      "20/20 [==============================] - 0s 3ms/step - loss: 0.2783 - accuracy: 0.9903\n",
      "Epoch 6/10\n",
      "20/20 [==============================] - 0s 3ms/step - loss: 0.1111 - accuracy: 0.9960\n",
      "Epoch 7/10\n",
      "20/20 [==============================] - 0s 3ms/step - loss: 0.0575 - accuracy: 0.9984\n",
      "Epoch 8/10\n",
      "20/20 [==============================] - 0s 3ms/step - loss: 0.0361 - accuracy: 0.9984\n",
      "Epoch 9/10\n",
      "20/20 [==============================] - 0s 3ms/step - loss: 0.0254 - accuracy: 0.9984\n",
      "Epoch 10/10\n",
      "20/20 [==============================] - 0s 3ms/step - loss: 0.0198 - accuracy: 0.9984\n",
      "Epoch 1/10\n",
      "20/20 [==============================] - 0s 3ms/step - loss: 2.6084 - accuracy: 0.2528\n",
      "Epoch 2/10\n",
      "20/20 [==============================] - 0s 3ms/step - loss: 2.3438 - accuracy: 0.6599\n",
      "Epoch 3/10\n",
      "20/20 [==============================] - 0s 3ms/step - loss: 1.6650 - accuracy: 0.8522\n",
      "Epoch 4/10\n",
      "20/20 [==============================] - 0s 3ms/step - loss: 0.7962 - accuracy: 0.9774\n",
      "Epoch 5/10\n",
      "20/20 [==============================] - 0s 3ms/step - loss: 0.2874 - accuracy: 0.9887\n",
      "Epoch 6/10\n",
      "20/20 [==============================] - 0s 3ms/step - loss: 0.1195 - accuracy: 0.9960\n",
      "Epoch 7/10\n",
      "20/20 [==============================] - 0s 3ms/step - loss: 0.0624 - accuracy: 0.9984\n",
      "Epoch 8/10\n",
      "20/20 [==============================] - 0s 3ms/step - loss: 0.0382 - accuracy: 0.9984\n",
      "Epoch 9/10\n",
      "20/20 [==============================] - 0s 3ms/step - loss: 0.0272 - accuracy: 0.9984\n",
      "Epoch 10/10\n",
      "20/20 [==============================] - 0s 3ms/step - loss: 0.0205 - accuracy: 0.9984\n",
      "Epoch 1/10\n",
      "20/20 [==============================] - 0s 3ms/step - loss: 2.6014 - accuracy: 0.2528\n",
      "Epoch 2/10\n",
      "20/20 [==============================] - 0s 3ms/step - loss: 2.2764 - accuracy: 0.6333\n",
      "Epoch 3/10\n",
      "20/20 [==============================] - 0s 3ms/step - loss: 1.5118 - accuracy: 0.8796\n",
      "Epoch 4/10\n",
      "20/20 [==============================] - 0s 3ms/step - loss: 0.6577 - accuracy: 0.9709\n",
      "Epoch 5/10\n",
      "20/20 [==============================] - 0s 3ms/step - loss: 0.2273 - accuracy: 0.9911\n",
      "Epoch 6/10\n",
      "20/20 [==============================] - 0s 3ms/step - loss: 0.0967 - accuracy: 0.9976\n",
      "Epoch 7/10\n",
      "20/20 [==============================] - 0s 3ms/step - loss: 0.0518 - accuracy: 0.9976\n",
      "Epoch 8/10\n",
      "20/20 [==============================] - 0s 3ms/step - loss: 0.0336 - accuracy: 0.9984\n",
      "Epoch 9/10\n",
      "20/20 [==============================] - 0s 3ms/step - loss: 0.0245 - accuracy: 0.9984\n",
      "Epoch 10/10\n",
      "20/20 [==============================] - 0s 3ms/step - loss: 0.0193 - accuracy: 0.9984\n",
      "Epoch 1/10\n",
      "20/20 [==============================] - 0s 3ms/step - loss: 2.6036 - accuracy: 0.2026\n",
      "Epoch 2/10\n",
      "20/20 [==============================] - 0s 3ms/step - loss: 2.3036 - accuracy: 0.5141\n",
      "Epoch 3/10\n",
      "20/20 [==============================] - 0s 3ms/step - loss: 1.6150 - accuracy: 0.8119\n",
      "Epoch 4/10\n",
      "20/20 [==============================] - 0s 3ms/step - loss: 0.8118 - accuracy: 0.9467\n",
      "Epoch 5/10\n",
      "20/20 [==============================] - 0s 3ms/step - loss: 0.3036 - accuracy: 0.9895\n",
      "Epoch 6/10\n",
      "20/20 [==============================] - 0s 3ms/step - loss: 0.1180 - accuracy: 0.9960\n",
      "Epoch 7/10\n",
      "20/20 [==============================] - 0s 3ms/step - loss: 0.0583 - accuracy: 0.9984\n",
      "Epoch 8/10\n",
      "20/20 [==============================] - 0s 3ms/step - loss: 0.0360 - accuracy: 0.9984\n",
      "Epoch 9/10\n",
      "20/20 [==============================] - 0s 3ms/step - loss: 0.0255 - accuracy: 0.9984\n",
      "Epoch 10/10\n",
      "20/20 [==============================] - 0s 3ms/step - loss: 0.0196 - accuracy: 0.9984\n",
      "Epoch 1/10\n",
      "20/20 [==============================] - 0s 3ms/step - loss: 2.5926 - accuracy: 0.3882\n",
      "Epoch 2/10\n",
      "20/20 [==============================] - 0s 3ms/step - loss: 2.2509 - accuracy: 0.6667\n",
      "Epoch 3/10\n",
      "20/20 [==============================] - 0s 3ms/step - loss: 1.5207 - accuracy: 0.8047\n",
      "Epoch 4/10\n",
      "20/20 [==============================] - 0s 3ms/step - loss: 0.7223 - accuracy: 0.9596\n",
      "Epoch 5/10\n",
      "20/20 [==============================] - 0s 3ms/step - loss: 0.2661 - accuracy: 0.9855\n",
      "Epoch 6/10\n",
      "20/20 [==============================] - 0s 3ms/step - loss: 0.1082 - accuracy: 0.9976\n",
      "Epoch 7/10\n",
      "20/20 [==============================] - 0s 3ms/step - loss: 0.0581 - accuracy: 0.9984\n",
      "Epoch 8/10\n",
      "20/20 [==============================] - 0s 3ms/step - loss: 0.0357 - accuracy: 0.9992\n",
      "Epoch 9/10\n",
      "20/20 [==============================] - 0s 3ms/step - loss: 0.0253 - accuracy: 0.9992\n",
      "Epoch 10/10\n",
      "20/20 [==============================] - 0s 3ms/step - loss: 0.0192 - accuracy: 0.9992\n",
      "Epoch 1/10\n",
      "20/20 [==============================] - 0s 3ms/step - loss: 2.5868 - accuracy: 0.1832\n",
      "Epoch 2/10\n",
      "20/20 [==============================] - 0s 3ms/step - loss: 2.2440 - accuracy: 0.5254\n",
      "Epoch 3/10\n",
      "20/20 [==============================] - 0s 3ms/step - loss: 1.5981 - accuracy: 0.7603\n",
      "Epoch 4/10\n",
      "20/20 [==============================] - 0s 3ms/step - loss: 0.8585 - accuracy: 0.9048\n",
      "Epoch 5/10\n",
      "20/20 [==============================] - 0s 3ms/step - loss: 0.3352 - accuracy: 0.9855\n",
      "Epoch 6/10\n",
      "20/20 [==============================] - 0s 3ms/step - loss: 0.1223 - accuracy: 0.9952\n",
      "Epoch 7/10\n",
      "20/20 [==============================] - 0s 3ms/step - loss: 0.0603 - accuracy: 0.9976\n",
      "Epoch 8/10\n",
      "20/20 [==============================] - 0s 3ms/step - loss: 0.0377 - accuracy: 0.9976\n",
      "Epoch 9/10\n",
      "20/20 [==============================] - 0s 3ms/step - loss: 0.0269 - accuracy: 0.9984\n",
      "Epoch 10/10\n",
      "20/20 [==============================] - 0s 3ms/step - loss: 0.0209 - accuracy: 0.9984\n",
      "Epoch 1/10\n",
      "20/20 [==============================] - 0s 3ms/step - loss: 2.5907 - accuracy: 0.3818\n",
      "Epoch 2/10\n",
      "20/20 [==============================] - 0s 3ms/step - loss: 2.2068 - accuracy: 0.7643\n",
      "Epoch 3/10\n",
      "20/20 [==============================] - 0s 3ms/step - loss: 1.4063 - accuracy: 0.8547\n",
      "Epoch 4/10\n",
      "20/20 [==============================] - 0s 3ms/step - loss: 0.6161 - accuracy: 0.9540\n",
      "Epoch 5/10\n",
      "20/20 [==============================] - 0s 3ms/step - loss: 0.2229 - accuracy: 0.9944\n",
      "Epoch 6/10\n",
      "20/20 [==============================] - 0s 3ms/step - loss: 0.0955 - accuracy: 0.9984\n",
      "Epoch 7/10\n",
      "20/20 [==============================] - 0s 3ms/step - loss: 0.0489 - accuracy: 0.9992\n",
      "Epoch 8/10\n",
      "20/20 [==============================] - 0s 3ms/step - loss: 0.0310 - accuracy: 0.9992\n",
      "Epoch 9/10\n",
      "20/20 [==============================] - 0s 3ms/step - loss: 0.0214 - accuracy: 0.9992\n",
      "Epoch 10/10\n",
      "20/20 [==============================] - 0s 3ms/step - loss: 0.0163 - accuracy: 0.9992\n"
     ]
    },
    {
     "name": "stderr",
     "output_type": "stream",
     "text": [
      "[Parallel(n_jobs=1)]: Done  10 out of  10 | elapsed:  4.4min finished\n"
     ]
    }
   ],
   "source": [
    "scores5 = cross_val_score(ANN(), X, y, cv=10, error_score='raise', verbose=True)"
   ]
  },
  {
   "cell_type": "code",
   "execution_count": 52,
   "metadata": {
    "colab": {
     "base_uri": "https://localhost:8080/"
    },
    "executionInfo": {
     "elapsed": 17,
     "status": "ok",
     "timestamp": 1657727097651,
     "user": {
      "displayName": "Riccardo Bova",
      "userId": "16906742759511411874"
     },
     "user_tz": -120
    },
    "id": "HcuK4Gn0J6Yg",
    "outputId": "9273c1e0-e8b6-40cd-ccbd-9d8eeae0b3bd"
   },
   "outputs": [
    {
     "data": {
      "text/plain": [
       "array([0.88405797, 0.94202899, 0.94927536, 0.95652174, 0.91304348,\n",
       "       0.94202899, 0.86861314, 0.91240876, 0.91240876, 0.81021898])"
      ]
     },
     "execution_count": 52,
     "metadata": {},
     "output_type": "execute_result"
    }
   ],
   "source": [
    "scores5"
   ]
  },
  {
   "cell_type": "code",
   "execution_count": 53,
   "metadata": {
    "colab": {
     "base_uri": "https://localhost:8080/"
    },
    "executionInfo": {
     "elapsed": 9,
     "status": "ok",
     "timestamp": 1657727097652,
     "user": {
      "displayName": "Riccardo Bova",
      "userId": "16906742759511411874"
     },
     "user_tz": -120
    },
    "id": "YDFx8HprKKDC",
    "outputId": "c6c79026-5377-4246-86e8-ffd70cc551a1"
   },
   "outputs": [
    {
     "data": {
      "text/plain": [
       "0.9090606156775627"
      ]
     },
     "execution_count": 53,
     "metadata": {},
     "output_type": "execute_result"
    }
   ],
   "source": [
    "np.mean(scores5)"
   ]
  },
  {
   "cell_type": "code",
   "execution_count": 54,
   "metadata": {
    "colab": {
     "base_uri": "https://localhost:8080/"
    },
    "executionInfo": {
     "elapsed": 1745,
     "status": "ok",
     "timestamp": 1657727461784,
     "user": {
      "displayName": "Riccardo Bova",
      "userId": "16906742759511411874"
     },
     "user_tz": -120
    },
    "id": "snjznZIjQM3p",
    "outputId": "16bea8e2-1880-497d-a213-b0cc6a1598b6"
   },
   "outputs": [
    {
     "name": "stdout",
     "output_type": "stream",
     "text": [
      "INFO:tensorflow:Assets written to: /content/drive/MyDrive/ML/testi/modelli/modello_ann/assets\n"
     ]
    }
   ],
   "source": [
    "ann.save(os.path.join(modelli,\"modello_ann\"))"
   ]
  },
  {
   "cell_type": "markdown",
   "metadata": {
    "id": "BEMgJTYCG1Z6"
   },
   "source": [
    "<h1>Anomaly detection</h1>"
   ]
  },
  {
   "cell_type": "code",
   "execution_count": null,
   "metadata": {
    "colab": {
     "base_uri": "https://localhost:8080/"
    },
    "executionInfo": {
     "elapsed": 267,
     "status": "ok",
     "timestamp": 1657442906841,
     "user": {
      "displayName": "Riccardo Bova",
      "userId": "16906742759511411874"
     },
     "user_tz": -120
    },
    "id": "BOOQ6udiSklv",
    "outputId": "8341f03d-c32d-4565-8b84-2625922db7c2"
   },
   "outputs": [
    {
     "data": {
      "text/plain": [
       "3"
      ]
     },
     "execution_count": 46,
     "metadata": {},
     "output_type": "execute_result"
    }
   ],
   "source": [
    "np.argmax(conteggio)"
   ]
  },
  {
   "cell_type": "markdown",
   "metadata": {
    "id": "m9UsGj0IS9ke"
   },
   "source": [
    "La classe più numerosa è quella con etichetta 3, ossia.."
   ]
  },
  {
   "cell_type": "code",
   "execution_count": null,
   "metadata": {
    "colab": {
     "base_uri": "https://localhost:8080/"
    },
    "executionInfo": {
     "elapsed": 270,
     "status": "ok",
     "timestamp": 1657442991431,
     "user": {
      "displayName": "Riccardo Bova",
      "userId": "16906742759511411874"
     },
     "user_tz": -120
    },
    "id": "k3LmN32eS7zH",
    "outputId": "c8bb321b-3643-4348-d259-58be7e28c179"
   },
   "outputs": [
    {
     "data": {
      "text/plain": [
       "['Business/Corporate',\n",
       " 'Computers and Technology',\n",
       " 'E-Commerce',\n",
       " 'Education',\n",
       " 'Food',\n",
       " 'Games',\n",
       " 'Health and Fitness',\n",
       " 'Law and Government',\n",
       " 'News',\n",
       " 'Photography',\n",
       " 'Social Networking and Messaging',\n",
       " 'Sports',\n",
       " 'Streaming Services',\n",
       " 'Travel']"
      ]
     },
     "execution_count": 47,
     "metadata": {},
     "output_type": "execute_result"
    }
   ],
   "source": [
    "categorie"
   ]
  },
  {
   "cell_type": "markdown",
   "metadata": {
    "id": "YNPgBTKYTRYY"
   },
   "source": [
    "..ossia education"
   ]
  },
  {
   "cell_type": "code",
   "execution_count": null,
   "metadata": {
    "id": "IeNXUgaKTZSN"
   },
   "outputs": [],
   "source": [
    "df_anomaly_principale = df.loc[df['label']=='Education']\n",
    "df_anomaly_anomalie = df.loc[df['label']!='Education']"
   ]
  },
  {
   "cell_type": "code",
   "execution_count": null,
   "metadata": {
    "colab": {
     "base_uri": "https://localhost:8080/",
     "height": 424
    },
    "executionInfo": {
     "elapsed": 256,
     "status": "ok",
     "timestamp": 1657443313630,
     "user": {
      "displayName": "Riccardo Bova",
      "userId": "16906742759511411874"
     },
     "user_tz": -120
    },
    "id": "cmmdPe9KUc9H",
    "outputId": "c7f2e821-a611-4583-8459-1ff8b52c8956"
   },
   "outputs": [
    {
     "data": {
      "text/html": [
       "\n",
       "  <div id=\"df-052e4b0b-cf5c-4b99-903c-a0115d469ace\">\n",
       "    <div class=\"colab-df-container\">\n",
       "      <div>\n",
       "<style scoped>\n",
       "    .dataframe tbody tr th:only-of-type {\n",
       "        vertical-align: middle;\n",
       "    }\n",
       "\n",
       "    .dataframe tbody tr th {\n",
       "        vertical-align: top;\n",
       "    }\n",
       "\n",
       "    .dataframe thead th {\n",
       "        text-align: right;\n",
       "    }\n",
       "</style>\n",
       "<table border=\"1\" class=\"dataframe\">\n",
       "  <thead>\n",
       "    <tr style=\"text-align: right;\">\n",
       "      <th></th>\n",
       "      <th>text</th>\n",
       "      <th>label</th>\n",
       "    </tr>\n",
       "  </thead>\n",
       "  <tbody>\n",
       "    <tr>\n",
       "      <th>0</th>\n",
       "      <td>official site good hotel accommodation big sav...</td>\n",
       "      <td>Travel</td>\n",
       "    </tr>\n",
       "    <tr>\n",
       "      <th>1</th>\n",
       "      <td>expedia hotel book sites like use vacation wor...</td>\n",
       "      <td>Travel</td>\n",
       "    </tr>\n",
       "    <tr>\n",
       "      <th>2</th>\n",
       "      <td>tripadvisor hotel book sites like previously d...</td>\n",
       "      <td>Travel</td>\n",
       "    </tr>\n",
       "    <tr>\n",
       "      <th>3</th>\n",
       "      <td>cheap flights search compare flights momondo f...</td>\n",
       "      <td>Travel</td>\n",
       "    </tr>\n",
       "    <tr>\n",
       "      <th>4</th>\n",
       "      <td>bot create free account create free account si...</td>\n",
       "      <td>Travel</td>\n",
       "    </tr>\n",
       "    <tr>\n",
       "      <th>...</th>\n",
       "      <td>...</td>\n",
       "      <td>...</td>\n",
       "    </tr>\n",
       "    <tr>\n",
       "      <th>1371</th>\n",
       "      <td>electroshops home theater decor interiors seat...</td>\n",
       "      <td>Business/Corporate</td>\n",
       "    </tr>\n",
       "    <tr>\n",
       "      <th>1372</th>\n",
       "      <td>clean ridge soap company clean ridge soap comp...</td>\n",
       "      <td>Business/Corporate</td>\n",
       "    </tr>\n",
       "    <tr>\n",
       "      <th>1373</th>\n",
       "      <td>home page pet crafts exquisitely piece handcut...</td>\n",
       "      <td>Business/Corporate</td>\n",
       "    </tr>\n",
       "    <tr>\n",
       "      <th>1374</th>\n",
       "      <td>home theater marketplace home theater seating ...</td>\n",
       "      <td>Business/Corporate</td>\n",
       "    </tr>\n",
       "    <tr>\n",
       "      <th>1375</th>\n",
       "      <td>thrive market healthy living easy buy healthy ...</td>\n",
       "      <td>Business/Corporate</td>\n",
       "    </tr>\n",
       "  </tbody>\n",
       "</table>\n",
       "<p>1262 rows × 2 columns</p>\n",
       "</div>\n",
       "      <button class=\"colab-df-convert\" onclick=\"convertToInteractive('df-052e4b0b-cf5c-4b99-903c-a0115d469ace')\"\n",
       "              title=\"Convert this dataframe to an interactive table.\"\n",
       "              style=\"display:none;\">\n",
       "        \n",
       "  <svg xmlns=\"http://www.w3.org/2000/svg\" height=\"24px\"viewBox=\"0 0 24 24\"\n",
       "       width=\"24px\">\n",
       "    <path d=\"M0 0h24v24H0V0z\" fill=\"none\"/>\n",
       "    <path d=\"M18.56 5.44l.94 2.06.94-2.06 2.06-.94-2.06-.94-.94-2.06-.94 2.06-2.06.94zm-11 1L8.5 8.5l.94-2.06 2.06-.94-2.06-.94L8.5 2.5l-.94 2.06-2.06.94zm10 10l.94 2.06.94-2.06 2.06-.94-2.06-.94-.94-2.06-.94 2.06-2.06.94z\"/><path d=\"M17.41 7.96l-1.37-1.37c-.4-.4-.92-.59-1.43-.59-.52 0-1.04.2-1.43.59L10.3 9.45l-7.72 7.72c-.78.78-.78 2.05 0 2.83L4 21.41c.39.39.9.59 1.41.59.51 0 1.02-.2 1.41-.59l7.78-7.78 2.81-2.81c.8-.78.8-2.07 0-2.86zM5.41 20L4 18.59l7.72-7.72 1.47 1.35L5.41 20z\"/>\n",
       "  </svg>\n",
       "      </button>\n",
       "      \n",
       "  <style>\n",
       "    .colab-df-container {\n",
       "      display:flex;\n",
       "      flex-wrap:wrap;\n",
       "      gap: 12px;\n",
       "    }\n",
       "\n",
       "    .colab-df-convert {\n",
       "      background-color: #E8F0FE;\n",
       "      border: none;\n",
       "      border-radius: 50%;\n",
       "      cursor: pointer;\n",
       "      display: none;\n",
       "      fill: #1967D2;\n",
       "      height: 32px;\n",
       "      padding: 0 0 0 0;\n",
       "      width: 32px;\n",
       "    }\n",
       "\n",
       "    .colab-df-convert:hover {\n",
       "      background-color: #E2EBFA;\n",
       "      box-shadow: 0px 1px 2px rgba(60, 64, 67, 0.3), 0px 1px 3px 1px rgba(60, 64, 67, 0.15);\n",
       "      fill: #174EA6;\n",
       "    }\n",
       "\n",
       "    [theme=dark] .colab-df-convert {\n",
       "      background-color: #3B4455;\n",
       "      fill: #D2E3FC;\n",
       "    }\n",
       "\n",
       "    [theme=dark] .colab-df-convert:hover {\n",
       "      background-color: #434B5C;\n",
       "      box-shadow: 0px 1px 3px 1px rgba(0, 0, 0, 0.15);\n",
       "      filter: drop-shadow(0px 1px 2px rgba(0, 0, 0, 0.3));\n",
       "      fill: #FFFFFF;\n",
       "    }\n",
       "  </style>\n",
       "\n",
       "      <script>\n",
       "        const buttonEl =\n",
       "          document.querySelector('#df-052e4b0b-cf5c-4b99-903c-a0115d469ace button.colab-df-convert');\n",
       "        buttonEl.style.display =\n",
       "          google.colab.kernel.accessAllowed ? 'block' : 'none';\n",
       "\n",
       "        async function convertToInteractive(key) {\n",
       "          const element = document.querySelector('#df-052e4b0b-cf5c-4b99-903c-a0115d469ace');\n",
       "          const dataTable =\n",
       "            await google.colab.kernel.invokeFunction('convertToInteractive',\n",
       "                                                     [key], {});\n",
       "          if (!dataTable) return;\n",
       "\n",
       "          const docLinkHtml = 'Like what you see? Visit the ' +\n",
       "            '<a target=\"_blank\" href=https://colab.research.google.com/notebooks/data_table.ipynb>data table notebook</a>'\n",
       "            + ' to learn more about interactive tables.';\n",
       "          element.innerHTML = '';\n",
       "          dataTable['output_type'] = 'display_data';\n",
       "          await google.colab.output.renderOutput(dataTable, element);\n",
       "          const docLink = document.createElement('div');\n",
       "          docLink.innerHTML = docLinkHtml;\n",
       "          element.appendChild(docLink);\n",
       "        }\n",
       "      </script>\n",
       "    </div>\n",
       "  </div>\n",
       "  "
      ],
      "text/plain": [
       "                                                   text               label\n",
       "0     official site good hotel accommodation big sav...              Travel\n",
       "1     expedia hotel book sites like use vacation wor...              Travel\n",
       "2     tripadvisor hotel book sites like previously d...              Travel\n",
       "3     cheap flights search compare flights momondo f...              Travel\n",
       "4     bot create free account create free account si...              Travel\n",
       "...                                                 ...                 ...\n",
       "1371  electroshops home theater decor interiors seat...  Business/Corporate\n",
       "1372  clean ridge soap company clean ridge soap comp...  Business/Corporate\n",
       "1373  home page pet crafts exquisitely piece handcut...  Business/Corporate\n",
       "1374  home theater marketplace home theater seating ...  Business/Corporate\n",
       "1375  thrive market healthy living easy buy healthy ...  Business/Corporate\n",
       "\n",
       "[1262 rows x 2 columns]"
      ]
     },
     "execution_count": 49,
     "metadata": {},
     "output_type": "execute_result"
    }
   ],
   "source": [
    "df_anomaly_anomalie"
   ]
  },
  {
   "cell_type": "code",
   "execution_count": null,
   "metadata": {
    "colab": {
     "base_uri": "https://localhost:8080/",
     "height": 424
    },
    "executionInfo": {
     "elapsed": 259,
     "status": "ok",
     "timestamp": 1657443324854,
     "user": {
      "displayName": "Riccardo Bova",
      "userId": "16906742759511411874"
     },
     "user_tz": -120
    },
    "id": "wMya8zd6UfSW",
    "outputId": "51f8de55-d65c-4b74-ccf7-b7d0cfe3513f"
   },
   "outputs": [
    {
     "data": {
      "text/html": [
       "\n",
       "  <div id=\"df-0c05e743-f2bf-47d3-b788-b82a94ac5313\">\n",
       "    <div class=\"colab-df-container\">\n",
       "      <div>\n",
       "<style scoped>\n",
       "    .dataframe tbody tr th:only-of-type {\n",
       "        vertical-align: middle;\n",
       "    }\n",
       "\n",
       "    .dataframe tbody tr th {\n",
       "        vertical-align: top;\n",
       "    }\n",
       "\n",
       "    .dataframe thead th {\n",
       "        text-align: right;\n",
       "    }\n",
       "</style>\n",
       "<table border=\"1\" class=\"dataframe\">\n",
       "  <thead>\n",
       "    <tr style=\"text-align: right;\">\n",
       "      <th></th>\n",
       "      <th>text</th>\n",
       "      <th>label</th>\n",
       "    </tr>\n",
       "  </thead>\n",
       "  <tbody>\n",
       "    <tr>\n",
       "      <th>961</th>\n",
       "      <td>collegenet serve high ed admissions scheduling...</td>\n",
       "      <td>Education</td>\n",
       "    </tr>\n",
       "    <tr>\n",
       "      <th>962</th>\n",
       "      <td>college admissions plus college admission educ...</td>\n",
       "      <td>Education</td>\n",
       "    </tr>\n",
       "    <tr>\n",
       "      <th>963</th>\n",
       "      <td>colleges answer new questions arise new york t...</td>\n",
       "      <td>Education</td>\n",
       "    </tr>\n",
       "    <tr>\n",
       "      <th>964</th>\n",
       "      <td>welcome andhra university visakhapatnam india ...</td>\n",
       "      <td>Education</td>\n",
       "    </tr>\n",
       "    <tr>\n",
       "      <th>965</th>\n",
       "      <td>somaiya vidyavihar university somaiya vidyavih...</td>\n",
       "      <td>Education</td>\n",
       "    </tr>\n",
       "    <tr>\n",
       "      <th>...</th>\n",
       "      <td>...</td>\n",
       "      <td>...</td>\n",
       "    </tr>\n",
       "    <tr>\n",
       "      <th>1070</th>\n",
       "      <td>explain scientific theories inductive reasonin...</td>\n",
       "      <td>Education</td>\n",
       "    </tr>\n",
       "    <tr>\n",
       "      <th>1071</th>\n",
       "      <td>neptunium chemical element britannica neptuniu...</td>\n",
       "      <td>Education</td>\n",
       "    </tr>\n",
       "    <tr>\n",
       "      <th>1072</th>\n",
       "      <td>fire ecology wikipedia fire ecology contents f...</td>\n",
       "      <td>Education</td>\n",
       "    </tr>\n",
       "    <tr>\n",
       "      <th>1073</th>\n",
       "      <td>molecular evolution wikipedia molecular evolut...</td>\n",
       "      <td>Education</td>\n",
       "    </tr>\n",
       "    <tr>\n",
       "      <th>1074</th>\n",
       "      <td>information genetics course genetics lesson ge...</td>\n",
       "      <td>Education</td>\n",
       "    </tr>\n",
       "  </tbody>\n",
       "</table>\n",
       "<p>114 rows × 2 columns</p>\n",
       "</div>\n",
       "      <button class=\"colab-df-convert\" onclick=\"convertToInteractive('df-0c05e743-f2bf-47d3-b788-b82a94ac5313')\"\n",
       "              title=\"Convert this dataframe to an interactive table.\"\n",
       "              style=\"display:none;\">\n",
       "        \n",
       "  <svg xmlns=\"http://www.w3.org/2000/svg\" height=\"24px\"viewBox=\"0 0 24 24\"\n",
       "       width=\"24px\">\n",
       "    <path d=\"M0 0h24v24H0V0z\" fill=\"none\"/>\n",
       "    <path d=\"M18.56 5.44l.94 2.06.94-2.06 2.06-.94-2.06-.94-.94-2.06-.94 2.06-2.06.94zm-11 1L8.5 8.5l.94-2.06 2.06-.94-2.06-.94L8.5 2.5l-.94 2.06-2.06.94zm10 10l.94 2.06.94-2.06 2.06-.94-2.06-.94-.94-2.06-.94 2.06-2.06.94z\"/><path d=\"M17.41 7.96l-1.37-1.37c-.4-.4-.92-.59-1.43-.59-.52 0-1.04.2-1.43.59L10.3 9.45l-7.72 7.72c-.78.78-.78 2.05 0 2.83L4 21.41c.39.39.9.59 1.41.59.51 0 1.02-.2 1.41-.59l7.78-7.78 2.81-2.81c.8-.78.8-2.07 0-2.86zM5.41 20L4 18.59l7.72-7.72 1.47 1.35L5.41 20z\"/>\n",
       "  </svg>\n",
       "      </button>\n",
       "      \n",
       "  <style>\n",
       "    .colab-df-container {\n",
       "      display:flex;\n",
       "      flex-wrap:wrap;\n",
       "      gap: 12px;\n",
       "    }\n",
       "\n",
       "    .colab-df-convert {\n",
       "      background-color: #E8F0FE;\n",
       "      border: none;\n",
       "      border-radius: 50%;\n",
       "      cursor: pointer;\n",
       "      display: none;\n",
       "      fill: #1967D2;\n",
       "      height: 32px;\n",
       "      padding: 0 0 0 0;\n",
       "      width: 32px;\n",
       "    }\n",
       "\n",
       "    .colab-df-convert:hover {\n",
       "      background-color: #E2EBFA;\n",
       "      box-shadow: 0px 1px 2px rgba(60, 64, 67, 0.3), 0px 1px 3px 1px rgba(60, 64, 67, 0.15);\n",
       "      fill: #174EA6;\n",
       "    }\n",
       "\n",
       "    [theme=dark] .colab-df-convert {\n",
       "      background-color: #3B4455;\n",
       "      fill: #D2E3FC;\n",
       "    }\n",
       "\n",
       "    [theme=dark] .colab-df-convert:hover {\n",
       "      background-color: #434B5C;\n",
       "      box-shadow: 0px 1px 3px 1px rgba(0, 0, 0, 0.15);\n",
       "      filter: drop-shadow(0px 1px 2px rgba(0, 0, 0, 0.3));\n",
       "      fill: #FFFFFF;\n",
       "    }\n",
       "  </style>\n",
       "\n",
       "      <script>\n",
       "        const buttonEl =\n",
       "          document.querySelector('#df-0c05e743-f2bf-47d3-b788-b82a94ac5313 button.colab-df-convert');\n",
       "        buttonEl.style.display =\n",
       "          google.colab.kernel.accessAllowed ? 'block' : 'none';\n",
       "\n",
       "        async function convertToInteractive(key) {\n",
       "          const element = document.querySelector('#df-0c05e743-f2bf-47d3-b788-b82a94ac5313');\n",
       "          const dataTable =\n",
       "            await google.colab.kernel.invokeFunction('convertToInteractive',\n",
       "                                                     [key], {});\n",
       "          if (!dataTable) return;\n",
       "\n",
       "          const docLinkHtml = 'Like what you see? Visit the ' +\n",
       "            '<a target=\"_blank\" href=https://colab.research.google.com/notebooks/data_table.ipynb>data table notebook</a>'\n",
       "            + ' to learn more about interactive tables.';\n",
       "          element.innerHTML = '';\n",
       "          dataTable['output_type'] = 'display_data';\n",
       "          await google.colab.output.renderOutput(dataTable, element);\n",
       "          const docLink = document.createElement('div');\n",
       "          docLink.innerHTML = docLinkHtml;\n",
       "          element.appendChild(docLink);\n",
       "        }\n",
       "      </script>\n",
       "    </div>\n",
       "  </div>\n",
       "  "
      ],
      "text/plain": [
       "                                                   text      label\n",
       "961   collegenet serve high ed admissions scheduling...  Education\n",
       "962   college admissions plus college admission educ...  Education\n",
       "963   colleges answer new questions arise new york t...  Education\n",
       "964   welcome andhra university visakhapatnam india ...  Education\n",
       "965   somaiya vidyavihar university somaiya vidyavih...  Education\n",
       "...                                                 ...        ...\n",
       "1070  explain scientific theories inductive reasonin...  Education\n",
       "1071  neptunium chemical element britannica neptuniu...  Education\n",
       "1072  fire ecology wikipedia fire ecology contents f...  Education\n",
       "1073  molecular evolution wikipedia molecular evolut...  Education\n",
       "1074  information genetics course genetics lesson ge...  Education\n",
       "\n",
       "[114 rows x 2 columns]"
      ]
     },
     "execution_count": 50,
     "metadata": {},
     "output_type": "execute_result"
    }
   ],
   "source": [
    "df_anomaly_principale"
   ]
  },
  {
   "cell_type": "code",
   "execution_count": null,
   "metadata": {
    "id": "xgPpeAVOU4z_"
   },
   "outputs": [],
   "source": [
    "X_anomaly_normali = copy.deepcopy(df_anomaly_principale['text'].to_numpy())\n",
    "X_anomaly_anomalie = copy.deepcopy(df_anomaly_anomalie['text'].to_numpy())\n",
    "y_anomaly_normali = np.ones((X_anomaly_normali.shape[0],))\n",
    "y_anomaly_anomalie = np.full((X_anomaly_anomalie.shape[0],), -1)\n",
    "X_anomaly = np.concatenate((X_anomaly_normali, X_anomaly_anomalie))\n",
    "y_anomaly = np.concatenate((y_anomaly_normali, y_anomaly_anomalie))"
   ]
  },
  {
   "cell_type": "code",
   "execution_count": null,
   "metadata": {
    "id": "TY8SQHZQG4aV"
   },
   "outputs": [],
   "source": [
    "from sklearn.svm import OneClassSVM\n",
    "svm_anomaly = OneClassSVM(gamma='auto')\n",
    "pipeline_anomaly = copy.deepcopy(pipeline)\n",
    "pipeline_anomaly.steps[8] = ('svm_anomaly', svm_anomaly)"
   ]
  },
  {
   "cell_type": "code",
   "execution_count": null,
   "metadata": {
    "colab": {
     "base_uri": "https://localhost:8080/"
    },
    "executionInfo": {
     "elapsed": 2744,
     "status": "ok",
     "timestamp": 1657445602440,
     "user": {
      "displayName": "Riccardo Bova",
      "userId": "16906742759511411874"
     },
     "user_tz": -120
    },
    "id": "9n2ZbHCsV2Ww",
    "outputId": "caac11e8-a1b3-4bf0-f47c-c10de5933b3d"
   },
   "outputs": [
    {
     "data": {
      "text/plain": [
       "Pipeline(steps=[('tokenizer', Tokenizer()),\n",
       "                ('nonwordsremover', NonWordsRemover()),\n",
       "                ('lemmatizer', Lemmatizer()),\n",
       "                ('numberremover', NumberRemover()),\n",
       "                ('shortwordremover', ShortWordRemover(minimum_length=2)),\n",
       "                ('strlists2documents', Strlists2Documents()),\n",
       "                ('countvectorizer', CountVectorizer()),\n",
       "                ('tfidftransformer', TfidfTransformer()),\n",
       "                ('svm_anomaly', OneClassSVM(gamma='auto'))])"
      ]
     },
     "execution_count": 68,
     "metadata": {},
     "output_type": "execute_result"
    }
   ],
   "source": [
    "pipeline_anomaly.fit(X_anomaly_normali)"
   ]
  },
  {
   "cell_type": "code",
   "execution_count": null,
   "metadata": {
    "id": "p6bJc2hOWAge"
   },
   "outputs": [],
   "source": [
    "scores_anomaly = pipeline_anomaly.score_samples(X_anomaly)"
   ]
  },
  {
   "cell_type": "code",
   "execution_count": null,
   "metadata": {
    "colab": {
     "base_uri": "https://localhost:8080/",
     "height": 621
    },
    "executionInfo": {
     "elapsed": 282,
     "status": "ok",
     "timestamp": 1657446647474,
     "user": {
      "displayName": "Riccardo Bova",
      "userId": "16906742759511411874"
     },
     "user_tz": -120
    },
    "id": "gBGvC5XFWJXB",
    "outputId": "c12dcaad-a3b3-45d0-c58e-d14872f180b4"
   },
   "outputs": [
    {
     "data": {
      "image/png": "[encoded data removed]",
      "text/plain": [
       "<Figure size 720x720 with 1 Axes>"
      ]
     },
     "metadata": {
      "needs_background": "light"
     },
     "output_type": "display_data"
    }
   ],
   "source": [
    "from sklearn import metrics\n",
    "from sklearn.metrics import RocCurveDisplay\n",
    "fpr, tpr, thresholds = metrics.roc_curve(y_anomaly, scores_anomaly)\n",
    "auc = metrics.auc(fpr, tpr)\n",
    "fig, ax = plt.subplots(1, figsize = (10,10))\n",
    "ax.plot(fpr,tpr)\n",
    "ax.set_title(f\"ROC curve. AUC = {auc}\")\n",
    "ax.set_xlabel(\"False positive rate\")\n",
    "ax.set_ylabel(\"True positive rate\")\n",
    "plt.show()"
   ]
  },
  {
   "cell_type": "code",
   "execution_count": null,
   "metadata": {
    "colab": {
     "base_uri": "https://localhost:8080/"
    },
    "executionInfo": {
     "elapsed": 267,
     "status": "ok",
     "timestamp": 1657446848768,
     "user": {
      "displayName": "Riccardo Bova",
      "userId": "16906742759511411874"
     },
     "user_tz": -120
    },
    "id": "fw3Wz1gKgF3Z",
    "outputId": "009f2841-4727-424f-940f-17c00cd5eaa7"
   },
   "outputs": [
    {
     "data": {
      "text/plain": [
       "0.8812939639113632"
      ]
     },
     "execution_count": 73,
     "metadata": {},
     "output_type": "execute_result"
    }
   ],
   "source": [
    "auc"
   ]
  },
  {
   "cell_type": "code",
   "execution_count": null,
   "metadata": {
    "colab": {
     "base_uri": "https://localhost:8080/"
    },
    "executionInfo": {
     "elapsed": 338,
     "status": "ok",
     "timestamp": 1657446999461,
     "user": {
      "displayName": "Riccardo Bova",
      "userId": "16906742759511411874"
     },
     "user_tz": -120
    },
    "id": "fUlVMYvwh9Sn",
    "outputId": "4cae3ad1-178a-415b-970f-ad0574b750bd"
   },
   "outputs": [
    {
     "data": {
      "text/plain": [
       "['/content/drive/MyDrive/ML/testi/modelli/svm_anomaly']"
      ]
     },
     "execution_count": 74,
     "metadata": {},
     "output_type": "execute_result"
    }
   ],
   "source": [
    "dump(pipeline_anomaly, os.path.join(modelli,'svm_anomaly'))"
   ]
  },
  {
   "cell_type": "code",
   "execution_count": null,
   "metadata": {
    "id": "gZqbBjNhih7F"
   },
   "outputs": [],
   "source": []
  }
 ],
 "metadata": {
  "accelerator": "GPU",
  "colab": {
   "collapsed_sections": [],
   "machine_shape": "hm",
   "name": "testi.ipynb",
   "provenance": []
  },
  "gpuClass": "standard",
  "kernelspec": {
   "display_name": "Python 3 (ipykernel)",
   "language": "python",
   "name": "python3"
  },
  "language_info": {
   "codemirror_mode": {
    "name": "ipython",
    "version": 3
   },
   "file_extension": ".py",
   "mimetype": "text/x-python",
   "name": "python",
   "nbconvert_exporter": "python",
   "pygments_lexer": "ipython3",
   "version": "3.9.2"
  }
 },
 "nbformat": 4,
 "nbformat_minor": 4
}
